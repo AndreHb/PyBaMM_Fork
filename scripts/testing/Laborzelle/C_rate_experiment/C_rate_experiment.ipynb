{
 "cells": [
  {
   "cell_type": "markdown",
   "metadata": {},
   "source": [
    "# Pybamm - C-Rate Experiment - Testnotebook\n",
    "In diesem Notebook soll eine Simulation einer NMC811 Zelle mit Daten aus der Literatur basierend mit einem Laborzellenaufbau mit einem NMC811/Graphit PAT-Zellaufbau in 3-Elektrodenanordnung verglichen werden. Die Literaturdaten basieren auf einem Paper von Chen et al. aus dem Jahr 2020<sup>1</sup>. Für eine genaue Simulation werden charakterische Unterschiede zwischen den experimentellen und Literaturdaten bestimmt und, aufgrund der erkannten Unterschiede, die entsprechenden Parameter angepasst.\n",
    "\n",
    "Dies sind zum geometrische, elektrische und thermodynamische Eigenschaften. Auf diese wird an entsprechender Stelle im Verlauf des Notebooks mit Hinweis auf PyBaMMs zugrundliegende Struktur hingewiesen. \n",
    "\n",
    "Vor Beginn der Simulation müssen alle notwendigen Pakete geladen werden. Dabei ist allen voran das Modelltoolbox \"PyBaMM\" zu nennen.\n",
    "\n",
    "<sup>1</sup>: Chang-Hui Chen, Ferran Brosa Planella, Kieran O’Regan, Dominika Gastol, W. Dhammika Widanage, and Emma Kendrick. Development of Experimental Techniques for Parameterization of Multi-scale Lithium-ion Battery Models. Journal of The Electrochemical Society, 167(8):080534, 2020. doi:10.1149/1945-7111/ab9050 "
   ]
  },
  {
   "cell_type": "code",
   "execution_count": null,
   "metadata": {},
   "outputs": [
    {
     "name": "stdout",
     "output_type": "stream",
     "text": [
      "Note: you may need to restart the kernel to use updated packages.\n",
      "C:\\Users\\ahe16\\AppData\\Roaming\\Python\\Python39\\site-packages\n"
     ]
    },
    {
     "name": "stderr",
     "output_type": "stream",
     "text": [
      "ERROR: Invalid requirement: '#'\n"
     ]
    }
   ],
   "source": [
    "%pip install pybamm -q    # install PyBaMM if it is not installed\n",
    "import pybamm\n",
    "import numpy as np\n",
    "import matplotlib as plt\n",
    "import pathlib\n",
    "import os\n",
    "\n",
    "\n",
    "os.chdir(pybamm.__path__[0]+'/..')\n",
    "print(os.getcwd())\n",
    "# print(__file__)\n",
    "# print(os.path.dirname(__file__))"
   ]
  },
  {
   "cell_type": "markdown",
   "metadata": {},
   "source": [
    "#### Determine your path!\n",
    "Bitte hier einmal deinen lokalen Pfand zu dem Verzeichnis wo das Skript lieght hinlegen. Ich habe es bei mir bisher leider nicht geschafft den Ablageort des Skripts direkt über Python zu bestimmten"
   ]
  },
  {
   "cell_type": "code",
   "execution_count": null,
   "metadata": {},
   "outputs": [
    {
     "name": "stdout",
     "output_type": "stream",
     "text": [
      "C:\\Users\\ahe16\\AppData\\Roaming\\Python\\Python39\\site-packages\n"
     ]
    }
   ],
   "source": [
    "# pathlib.Path(\"\")\n",
    "# pathlib.Path.cwd()\n",
    "print(os.path.abspath(\"\"))"
   ]
  },
  {
   "cell_type": "markdown",
   "metadata": {},
   "source": [
    "## 1 Modellwahl\n",
    "In der Arbeitsabfolge muss nächst anhand der Anforderungen an die zu gewinnen Modelllöung ein geeigneter Lithium Ionen Modellansatz gewählt werden. Bei Beachtung der Fragestellungen im Graduiertenkolleg wird ein elektrochemisches und physikalisches Modell gewählt, was eine gute Dokumentation und Genauigkeit aufweist. Das ist das *Doyle-Fuller-Newman* Modell. Dieses wird entsprechend auch für dieses C-Raten Beispiel gewählt, um möglichst sinnvolle Erfahrungen für die spätere Anwendung zu sammeln.\n",
    "\n",
    "Das in **PyBaMM** gewählte Modell legt fest welche Parameter für die Simulation benötigt werden. Die gesamte Liste kann über den Befehl `model.print_parameter_info` eingesehen werden. Die Parameter unterscheiden sich dabei in zwei Kategorien. Es gibt *Parameter*, die als Konstanten definiert werden, und es gibt *FunctionParameter*, die durch eine Funktion in Abhängigkeit von den gegebenen Inputgrößen berechnet werden.\n",
    "\n",
    "Mit den Parametern werden für das gewählte Modell eine Vielzahl von Variablen örtlich und/oder zeitlich berechnet. Diese können analog zu den Parametern durch den Befehl `model.variable_names` auch in Gänze ausgegeben werden. Zur Suche nach einzelnen Variablen in der \"dict\" Struktur kann außerdem der Befehl `model.variables.search(\"*suchbegriff*\")` genutzt werden.\n",
    "\n",
    "#### to do\n",
    "- Annahmen für das DFN Modell auflisten\n",
    "- Erweitert sich die Liste automatisch wenn man einzelne Untermodelle austauscht oder verändert?\n",
    "- Möglichkeit zur Nutzung mehrerer Modell für den direkten Vergleich mit aufnehmen"
   ]
  },
  {
   "cell_type": "code",
   "execution_count": null,
   "metadata": {},
   "outputs": [
    {
     "name": "stdout",
     "output_type": "stream",
     "text": [
      "Lower voltage cut-off [V] (Parameter)\n",
      "Nominal cell capacity [A.h] (Parameter)\n",
      "Electrode height [m] (Parameter)\n",
      "Number of cells connected in series to make a battery (Parameter)\n",
      "Negative electrode thickness [m] (Parameter)\n",
      "Initial temperature [K] (Parameter)\n",
      "Positive electrode electrons in reaction (Parameter)\n",
      "Positive electrode Bruggeman coefficient (electrode) (Parameter)\n",
      "Separator Bruggeman coefficient (electrolyte) (Parameter)\n",
      "Electrode width [m] (Parameter)\n",
      "Number of electrodes connected in parallel to make a cell (Parameter)\n",
      "Positive electrode thickness [m] (Parameter)\n",
      "Maximum concentration in positive electrode [mol.m-3] (Parameter)\n",
      "Negative electrode electrons in reaction (Parameter)\n",
      "Upper voltage cut-off [V] (Parameter)\n",
      "Typical current [A] (Parameter)\n",
      "Reference temperature [K] (Parameter)\n",
      "Separator thickness [m] (Parameter)\n",
      "Negative electrode Bruggeman coefficient (electrolyte) (Parameter)\n",
      "Initial concentration in electrolyte [mol.m-3] (Parameter)\n",
      "Positive electrode Bruggeman coefficient (electrolyte) (Parameter)\n",
      "Typical electrolyte concentration [mol.m-3] (Parameter)\n",
      "Maximum concentration in negative electrode [mol.m-3] (Parameter)\n",
      "Negative electrode Bruggeman coefficient (electrode) (Parameter)\n",
      "Positive electrode diffusivity [m2.s-1] (FunctionParameter with input(s) 'Positive particle stoichiometry', 'Temperature [K]')\n",
      "Cation transference number (FunctionParameter with input(s) 'Electrolyte concentration [mol.m-3]', 'Temperature [K]')\n",
      "Positive electrode conductivity [S.m-1] (FunctionParameter with input(s) 'Temperature [K]')\n",
      "Negative electrode OCP [V] (FunctionParameter with input(s) 'Negative particle stoichiometry')\n",
      "Negative electrode OCP entropic change [V.K-1] (FunctionParameter with input(s) 'Negative particle stoichiometry', 'Maximum negative particle surface concentration [mol.m-3]')\n",
      "Negative electrode diffusivity [m2.s-1] (FunctionParameter with input(s) 'Negative particle stoichiometry', 'Temperature [K]')\n",
      "Positive electrode OCP entropic change [V.K-1] (FunctionParameter with input(s) 'Positive particle stoichiometry', 'Maximum positive particle surface concentration [mol.m-3]')\n",
      "Ambient temperature [K] (FunctionParameter with input(s) 'Time [s]')\n",
      "Negative electrode exchange-current density [A.m-2] (FunctionParameter with input(s) 'Electrolyte concentration [mol.m-3]', 'Negative particle surface concentration [mol.m-3]', 'Maximum negative particle surface concentration [mol.m-3]', 'Temperature [K]')\n",
      "1 + dlnf/dlnc (FunctionParameter with input(s) 'Electrolyte concentration [mol.m-3]', 'Temperature [K]')\n",
      "Positive electrode porosity (FunctionParameter with input(s) 'Through-cell distance (x) [m]')\n",
      "Initial concentration in negative electrode [mol.m-3] (FunctionParameter with input(s) 'Radial distance (r) [m]', 'Through-cell distance (x) [m]')\n",
      "Positive electrode exchange-current density [A.m-2] (FunctionParameter with input(s) 'Electrolyte concentration [mol.m-3]', 'Positive particle surface concentration [mol.m-3]', 'Maximum positive particle surface concentration [mol.m-3]', 'Temperature [K]')\n",
      "Positive particle radius [m] (FunctionParameter with input(s) 'Through-cell distance (x) [m]')\n",
      "Negative electrode active material volume fraction (FunctionParameter with input(s) 'Through-cell distance (x) [m]')\n",
      "Negative particle radius [m] (FunctionParameter with input(s) 'Through-cell distance (x) [m]')\n",
      "Initial concentration in positive electrode [mol.m-3] (FunctionParameter with input(s) 'Radial distance (r) [m]', 'Through-cell distance (x) [m]')\n",
      "Negative electrode porosity (FunctionParameter with input(s) 'Through-cell distance (x) [m]')\n",
      "Negative electrode conductivity [S.m-1] (FunctionParameter with input(s) 'Temperature [K]')\n",
      "Current function [A] (FunctionParameter with input(s) 'Time [s]')\n",
      "Positive electrode OCP [V] (FunctionParameter with input(s) 'Positive particle stoichiometry')\n",
      "Electrolyte conductivity [S.m-1] (FunctionParameter with input(s) 'Electrolyte concentration [mol.m-3]', 'Temperature [K]')\n",
      "Electrolyte diffusivity [m2.s-1] (FunctionParameter with input(s) 'Electrolyte concentration [mol.m-3]', 'Temperature [K]')\n",
      "Positive electrode active material volume fraction (FunctionParameter with input(s) 'Through-cell distance (x) [m]')\n",
      "Separator porosity (FunctionParameter with input(s) 'Through-cell distance (x) [m]')\n",
      "\n"
     ]
    }
   ],
   "source": [
    "model = pybamm.lithium_ion.DFN()\n",
    "\n",
    "# Auflistung aller von dem gewählten Modell benötigten Parameter\n",
    "model.print_parameter_info()\n",
    "\n",
    "# Beispiel für Auflistung aller von dem Modell berechneten Variablen bzw. Variablen mit bestimmten \"Worten\".\n",
    "# model.variable_names\n",
    "# model.variables.search(\"Negative electrode porosity\")\n"
   ]
  },
  {
   "cell_type": "markdown",
   "metadata": {},
   "source": [
    "## 2 Parameterbestimmung\n",
    "Die zur Beschreibung des Batteriesystems nötigen Gleichungen werden durch das Modell definiert.  Aus anfängliches Parameter Set wird, wie zuvor erwähnt, das Set von Chen et al. (2020) gewählt. Diese können für die einzelnen entweder Konstanten für *Parameter* oder Funktionen und Look Up tables (intern interpoliert) für *FunctionParameter* definiert sein. Das hier gewählte Parameter Set beschreibt ein kommerzielles NMC811/Graphite-SiO<sub>x</sub> Materialsystem in dem zyklindrischen 21700 Format (Produktname: LGM50). Das Set hier hat mehr Parameter, als das Modell benötigt. Zusätzliche Angaben werden nicht von dem gewählten Modell beachtet, außer es werden entsprechende Untermodell eingesetzt.\n",
    "\n",
    "Analog zu der Möglichkeit der Variablen Suche für das Modell können auf eine analoge Weise über `parameter_values.search(\"*Suchbegriff*\")` die einzelnen Parameter gesucht werden.\n",
    "\n",
    "Dadurch ergeben sich deutliche Unterschiede in der Geometrie und bei der negativen Elektrode im Vergleich zum zu vergleichenden Laborzellensystem.\n",
    "\n",
    "#### to do\n",
    "- Mehr Parameter anpassen"
   ]
  },
  {
   "cell_type": "code",
   "execution_count": null,
   "metadata": {},
   "outputs": [
    {
     "name": "stdout",
     "output_type": "stream",
     "text": [
      "Negative electrode porosity\t0.25\n",
      "Positive electrode porosity\t0.335\n",
      "Separator porosity\t0.47\n"
     ]
    }
   ],
   "source": [
    "parameter_values = pybamm.ParameterValues(\"Chen2020\")\n",
    "parameter_values.search(\"porosity\") # Suche\n",
    "# parameter_values # Vollständige Parameterliste"
   ]
  },
  {
   "cell_type": "markdown",
   "metadata": {},
   "source": [
    "### Anpassung geometrische Daten\n",
    "Umrechnen von Durchmesser der Laborzellenelektroden von 18 mm in eine quadratische Oberfläche, da die Elektrodenfläche in PyBaMM als viereckige Fläche berechnet wird."
   ]
  },
  {
   "cell_type": "code",
   "execution_count": null,
   "metadata": {},
   "outputs": [
    {
     "name": "stdout",
     "output_type": "stream",
     "text": [
      "0.015952084658149644\n"
     ]
    }
   ],
   "source": [
    "Diameter=18e-3\n",
    "cell_geoquad= (Diameter**2/4*np.pi)**(1/2)\n",
    "print(cell_geoquad)"
   ]
  },
  {
   "cell_type": "markdown",
   "metadata": {},
   "source": [
    "Zur Modellierung der Laborzelle müssen weitere Parameter angepasst werden."
   ]
  },
  {
   "cell_type": "code",
   "execution_count": null,
   "metadata": {},
   "outputs": [],
   "source": [
    "\n",
    "# Elektrische Parameter\n",
    "parameter_values[\"Upper voltage cut-off [V]\"] = 4.2\n",
    "parameter_values[\"Lower voltage cut-off [V]\"] = 3.0\n",
    "parameter_values[\"Nominal cell capacity [A.h]\"] = 5.1e-3 # only for conversion between current and C-rate\n",
    "\n",
    "# Geometrische Parameter der Aktivmterialien zur Berechnung der Kapazität\n",
    "parameter_values[\"Positive electrode porosity\"] = 0.39\n",
    "parameter_values[\"Negative electrode porosity\"] = 0.25\n",
    "parameter_values[\"Positive electrode thickness [m]\"] = 4.24e-5 #measured thickness - collector foil thickness of data sheet (20 µm)\n",
    "parameter_values[\"Negative electrode thickness [m]\"] = 5.0e-5  #measured thickness - collector foil thickness of data sheet (14 µm)\n",
    "parameter_values[\"Electrode width [m]\"] = cell_geoquad\n",
    "parameter_values[\"Electrode height [m]\"] = cell_geoquad\n",
    "parameter_values[\"Positive electrode active material volume fraction\"] = 1-parameter_values[\"Positive electrode porosity\"] # fraction of filled proes to active material - not binder or composition of active material\n",
    "parameter_values[\"Negative electrode active material volume fraction\"] = 1-parameter_values[\"Negative electrode porosity\"] # fraction of filled proes to active material - not binder or composition of active material\n",
    "\n",
    "# Geometrische Separatorwerte\n",
    "parameter_values[\"Separator thickness [m]\"] = 2.6e-4\n",
    "parameter_values[\"Separator porosity\"] = 0.91\n",
    "#parameter_values[\"Typical electrolyte concentration [mol.m-3]\"] = \n"
   ]
  },
  {
   "cell_type": "markdown",
   "metadata": {},
   "source": [
    "## Experimentdefinition - C rate test\n",
    "Definition von Experiment. Bringen auf richten Ausgangszustand zuvor"
   ]
  },
  {
   "cell_type": "code",
   "execution_count": null,
   "metadata": {},
   "outputs": [],
   "source": [
    "C_Rate_test = pybamm.Experiment(\n",
    "    [\n",
    "        (\"Discharge at 1 C until 3.0 V\",\n",
    "        \"Rest for 5 minutes\",\n",
    "        \"Charge at 1 C until 4.2 V\",\n",
    "        \"Hold at 4.2 V until C/10\",\n",
    "        \"Rest for 5 minutes\"),\n",
    "    ] * 1\n",
    ") #for 1 hours or\n",
    "\n",
    "# \"Charge at 1 C until 4.2 V\",\n",
    "#         \"Hold at 4.2 V until C/10\",\n",
    "#         \"Rest for 5 minutes\","
   ]
  },
  {
   "cell_type": "code",
   "execution_count": null,
   "metadata": {},
   "outputs": [
    {
     "data": {
      "application/vnd.jupyter.widget-view+json": {
       "model_id": "24048d8a62f14a9ab0a113f4730eefa3",
       "version_major": 2,
       "version_minor": 0
      },
      "text/plain": [
       "interactive(children=(FloatSlider(value=0.0, description='t', max=4.278524673088087, step=0.04278524673088087)…"
      ]
     },
     "metadata": {},
     "output_type": "display_data"
    },
    {
     "data": {
      "text/plain": [
       "<pybamm.plotting.quick_plot.QuickPlot at 0x23cdab89160>"
      ]
     },
     "execution_count": 32,
     "metadata": {},
     "output_type": "execute_result"
    }
   ],
   "source": [
    "sim = pybamm.Simulation(model, parameter_values=parameter_values, experiment=C_Rate_test)\n",
    "t_eval = np.arange(0, 12001, 1)\n",
    "sol = sim.solve(initial_soc=0.5) #[0, 7200], t_eval=t_eval, initial_soc=1\n",
    "sim.plot()"
   ]
  },
  {
   "cell_type": "markdown",
   "metadata": {},
   "source": []
  },
  {
   "cell_type": "code",
   "execution_count": null,
   "metadata": {},
   "outputs": [
    {
     "name": "stdout",
     "output_type": "stream",
     "text": [
      "Battery voltage [V]\n",
      "Change in measured open circuit voltage\n",
      "Change in measured open circuit voltage [V]\n",
      "Local voltage\n",
      "Local voltage [V]\n",
      "Measured battery open circuit voltage [V]\n",
      "Measured open circuit voltage\n",
      "Measured open circuit voltage [V]\n",
      "Terminal voltage\n",
      "Terminal voltage [V]\n",
      "X-averaged battery open circuit voltage [V]\n",
      "X-averaged open circuit voltage\n",
      "X-averaged open circuit voltage [V]\n"
     ]
    },
    {
     "data": {
      "application/vnd.jupyter.widget-view+json": {
       "model_id": "7d9f8648624f46ee9aec82134f7ff584",
       "version_major": 2,
       "version_minor": 0
      },
      "text/plain": [
       "interactive(children=(FloatSlider(value=0.0, description='t', max=4.278524673088087, step=0.04278524673088087)…"
      ]
     },
     "metadata": {},
     "output_type": "display_data"
    },
    {
     "data": {
      "text/plain": [
       "<pybamm.plotting.quick_plot.QuickPlot at 0x23cde18d340>"
      ]
     },
     "execution_count": 33,
     "metadata": {},
     "output_type": "execute_result"
    }
   ],
   "source": [
    "model.variables.search(\"voltage\")\n",
    "output_variables = [\"Positive electrode potential [V]\", \"Negative electrode potential [V]\" , \"Terminal voltage [V]\",\"Positive electrode SOC\",\"Negative electrode SOC\",\"Measured open circuit voltage [V]\"]\n",
    "sim.plot(output_variables=output_variables)"
   ]
  },
  {
   "cell_type": "markdown",
   "metadata": {},
   "source": [
    "### Suche nach Variablen in verschiedenen Sets\n",
    "Anteilige Auflistung der Spannungsanteile zur Spannungskurve"
   ]
  },
  {
   "cell_type": "code",
   "execution_count": null,
   "metadata": {},
   "outputs": [
    {
     "ename": "SyntaxError",
     "evalue": "(unicode error) 'unicodeescape' codec can't decode bytes in position 2-3: truncated \\UXXXXXXXX escape (1321664700.py, line 10)",
     "output_type": "error",
     "traceback": [
      "\u001b[1;36m  File \u001b[1;32m\"C:\\Users\\ahe16\\AppData\\Local\\Temp\\ipykernel_13728\\1321664700.py\"\u001b[1;36m, line \u001b[1;32m10\u001b[0m\n\u001b[1;33m    plt.pylab.savefig(\"C:\\Users\\ahe16\\Documents\\GitHub\\PyBaMM_Fork\\scripts\\testing\\Laborzelle\\C_rate_experiment\\voltage_components.svg\")\u001b[0m\n\u001b[1;37m                                                                                                                                       ^\u001b[0m\n\u001b[1;31mSyntaxError\u001b[0m\u001b[1;31m:\u001b[0m (unicode error) 'unicodeescape' codec can't decode bytes in position 2-3: truncated \\UXXXXXXXX escape\n"
     ]
    }
   ],
   "source": [
    "# pybamm.plot_voltage_components(sol)\n",
    "# test=os.environ.get('PYTHONPATH', '').split(os.pathsep)\n",
    "# print(test)\n",
    "xpoints = np.array([1, 8])\n",
    "ypoints = np.array([3, 10])\n",
    "plt.pyplot.plot(xpoints, ypoints)\n",
    "plt.pyplot.show()\n",
    "fig = plt.pyplot.gcf()\n",
    "fig.set_size_inches(18.5, 10.5)\n",
    "plt.pylab.savefig(\"C:\\Users\\ahe16\\Documents\\GitHub\\PyBaMM_Fork\\scripts\\testing\\Laborzelle\\C_rate_experiment\\voltage_components.svg\")"
   ]
  },
  {
   "cell_type": "markdown",
   "metadata": {},
   "source": [
    "### Hinzufügen/Verändern von ParametersSets\n",
    "**PyBaMM** folgt einer eigenen Struktur bei der Suche und Definition von Variablen. Die Parameter Sets werden grundsätzlich durch ihre `chemistry` defininiert. Diese ist wie folgt aufgebaut (am Bespiel von Chen2020)\n",
    "{'chemistry': 'lithium_ion',\n",
    " 'cell': 'LGM50_Chen2020',\n",
    " 'negative electrode': 'graphite_Chen2020',\n",
    " 'separator': 'separator_Chen2020',\n",
    " 'positive electrode': 'nmc_Chen2020',\n",
    " 'electrolyte': 'lipf6_Nyman2008',\n",
    " 'experiment': '1C_discharge_from_full_Chen2020',\n",
    " 'sei': 'example',\n",
    " 'citation': 'Chen2020'}\n",
    "\n",
    "Die Aufteilung nach den einzelnen Batteriekomponenten lässt sich auch in der Ordnerstruktur wiederfinden, die nach den einzelnen Komponenten aufgeteilt ist. Jeder \"Komponenten-Ordner\" enthält dabei eine *parameters.csv* Datei, die alle aus der Literaturqulle die für diese Komponente definierten Inhalte auflistet. Anhand der struktureller Merkmale, ist **PyBaMM** fähig die Parameter aus den Parameterlisten zu bestimmen. Auf *FunctionParameter* wird in *parameters.csv* jedoch nur namentlich verwiesen. Es findet sich eine entsprechende Python Funktion oder .csv (look up table) in dem gleichen Ordner. Bei den Funktionen handelt es meist um einen kontinuierlichen Fit der diskreten experimentellen Daten. Bei .csv werden die Tabellenwerten din **PyBaMM** interpoliert.\n",
    "\n",
    "Um eigene Parameter Sets zu definieren muss eine entsprechende  `chemistry` erstellt werden. Alternativ können die einzelnen Komponenten des gewählten Sets auch ausgetauscht werden. Um selbst Komponenten zu erstellen, sollten diese in der gleichen Struktur wie die original Komponenten von **PyBaMM** definiert sein. Die einzelnen Komponenten werden entlang bestimmter Pfade von **PyBaMM** gesucht. Diese können von **PyBaMM** über `print(pybamm.PARAMETER_PATH)` dargestellt werden. Wichtig ist, dass bei gleichnamigen Komponenten, immer die von dem zuletzt durchsuchten Pfad genommen werden."
   ]
  },
  {
   "cell_type": "markdown",
   "metadata": {},
   "source": [
    "### "
   ]
  },
  {
   "cell_type": "code",
   "execution_count": null,
   "metadata": {},
   "outputs": [
    {
     "name": "stdout",
     "output_type": "stream",
     "text": [
      "['C:\\\\Users\\\\ahe16\\\\AppData\\\\Roaming\\\\Python\\\\Python39\\\\site-packages', 'c:\\\\Users\\\\ahe16\\\\Documents\\\\GitHub\\\\PyBaMM_Fork\\\\scripts\\\\testing\\\\Laborzelle\\\\C_rate_experiment', 'C:\\\\Users\\\\ahe16\\\\AppData\\\\Roaming\\\\Python\\\\Python39\\\\site-packages\\\\pybamm\\\\input\\\\parameters']\n"
     ]
    }
   ],
   "source": [
    "chemistry = pybamm.parameter_sets.Chen2020\n",
    "chemistry\n",
    "# Show the PyBaMM Paths where the parameter sets are looked for\n",
    "print(pybamm.PARAMETER_PATH)"
   ]
  },
  {
   "cell_type": "markdown",
   "metadata": {},
   "source": [
    "### Studie zu den Anfangswertbedinungen\n",
    "Bei der Definition der Experimente ist es wichtig auf den gleichen Anfangszustand zu kommen. Dazu gibt es bei der Simulation ([Dokumentation-Simulation](https://pybamm.readthedocs.io/en/latest/_modules/pybamm/simulation.html#Simulation.solve)) der Lösung, die Möglichkeit die den anfänglichen Ladezustand über `initial_soc` (0 bis 1) den anfänglichen Ladezustand zu bestimmen. \n",
    "\n",
    "#### Wie bestimmt sich SOC im DFN Modell?\n",
    "Der Ladezustand ist in P2D Modellen von Lithium-Ionen Batterien über die den Anteil der Lithiumionenkonzentration $x$ in den Partikeln des Aktivmaterials gegenüber der maximalen Konzentration von Kathode und Anode bestimmt. Dies wird in PyBaMM auch als `initial_stoichiometries` beschrieben.\n",
    "\n",
    "$$ x = \\frac{c_s}{c_s^{max}} $$\n",
    "<span style=\"color:grey\">Quelle: *Chen.2020*</span>.\n",
    "\n",
    "Der anfängliche Ladezustand wird dann anhand von Lade- und Entladeschlussspannung, sowie den OCV Kurven zu der negativen und positiven Elektrode bestimmt. Die OCV Kurven werden wie von der Modellparameterliste getrennt für Kathode und Anode festgelegt. Wie dort auch festgelegt ist das Potential abhängig von der Stöchiometrie in dem Aktivmaterial, also wie oben das Verhältnis der Lithiumionenkonzentration gegenüber der maximalen Konzentration in dem Material. Je nach Festlegung der Ladeschlussspannungen wird nur ein Teil der theoretischen Kapazität der Materialien genutzt, was sich in der Praxis meist durch eine dadurch höhrere Lebensdauer lohnt.\n",
    "\n",
    "##### To do \n",
    "- Tiefer einsteigen\n",
    "- OCV Kurven fr Kathode und Anode tauschen\n",
    "- Gibt es noch andere Abhängigkeiten bei der Begrenzung der OCV Fenster als Ladeschlussspannungen?\n",
    "\n",
    "\n",
    "#### Definition des vorherigen Zellhistorie\n",
    "Bei der Simulation von Vorgängen sollte auf die Historie der Zelle geachtet werden, so kann der Anfangszustand driekt vor dem Test der eigentlich simuliert werden soll, auch simuliert werden.\n"
   ]
  },
  {
   "cell_type": "code",
   "execution_count": null,
   "metadata": {},
   "outputs": [
    {
     "name": "stdout",
     "output_type": "stream",
     "text": [
      "0.9094754608648545 0.263849135244151\n"
     ]
    }
   ],
   "source": [
    "param = pybamm.LithiumIonParameters()\n",
    "V_min = parameter_values.evaluate(param.voltage_low_cut_dimensional)\n",
    "V_max = parameter_values.evaluate(param.voltage_high_cut_dimensional)\n",
    "C_n = parameter_values.evaluate(param.n.cap_init)\n",
    "C_p = parameter_values.evaluate(param.p.cap_init)\n",
    "n_Li = parameter_values.evaluate(param.n_Li_particles_init)\n",
    "\n",
    "x, y = pybamm.lithium_ion.get_initial_stoichiometries(1, parameter_values)\n",
    "# pybamm.lithium_ion.ElectrodeSOHSolver\n",
    "print(x,y)\n",
    "# pybamm.plot(sol.t,sol.y)\n"
   ]
  },
  {
   "cell_type": "markdown",
   "metadata": {},
   "source": [
    "#### Wie kann die von der Stöchiometrie abhängige OCV Kurve bestimmt werden?\n",
    "Die Stöchiometrie abhängigen OCV Kurven müssen für die positive und negative Elektrode festgelegt werden, da diese im Modell zur Berechnung der Spannungs und Kinetik essenziell wichtig sind. Die positive Elektrode wird während der Entladung vollständig liithiert. Die negative Elektrode wird nicht vollständig lithiiert und nicht vollständig. Eine Lithium-Ionen Batterievollzelle ist in der Regel durch die theoretische Kapazität der der positiven Elektrode limitiert. Für eine Vollzelle können im 3-Elektrodensetup die Halbzellspannungen gegen Lithium über den Spannungsbereich der Vollzelle aufgenommen werden. Um den praktisch genutzten Ladezustand mit dem Lihtiierungsgrad der Elektroden in Zusammenhang zu bringen sind außerdem Tests an Li-Halbzellen notwenig, um über Lithiierungsbereich der Vollzelle hinaus zu testen und so den Zustand vollständige Lithiierung und Delithiierung zu erreichen.\n",
    "\n",
    "Unter dieser Annahme können die Stöchiometriedaten mit den Ladezustandsdaten über die Zellspannungen gefittet werden. So kann jedem Ladezustand eine Stöchiometrie zugewiesen werden.\n",
    "\n",
    "Chen et al <sup>1</sup>"
   ]
  },
  {
   "cell_type": "code",
   "execution_count": null,
   "metadata": {},
   "outputs": [],
   "source": []
  },
  {
   "cell_type": "markdown",
   "metadata": {},
   "source": [
    "### Save data to csv and matlab for further analysis"
   ]
  },
  {
   "cell_type": "code",
   "execution_count": null,
   "metadata": {},
   "outputs": [],
   "source": [
    "sol.save_data(r\"C:\\Users\\ahe16\\Documents\\GitHub\\PyBaMM_Fork\\scripts\\testing\\Laborzelle\\C_rate_experiment\\Crate_data.csv\", [\"Time [s]\", \"Current [A]\", \"Terminal voltage [V]\"], to_format=\"txt\")\n",
    "sol.save_data(r\"C:\\Users\\ahe16\\Documents\\GitHub\\PyBaMM_Fork\\scripts\\testing\\Laborzelle\\C_rate_experiment\\Crate_data.mat\", [\"Time [s]\", \"Current [A]\", \"Terminal voltage [V]\"], to_format=\"matlab\",\n",
    "              short_names={\"Time [s]\": \"t\", \"Current [A]\": \"I\", \"Terminal voltage [V]\": \"V\"})\n"
   ]
  },
  {
   "cell_type": "markdown",
   "metadata": {},
   "source": [
    "how to change the time of export?"
   ]
  },
  {
   "cell_type": "code",
   "execution_count": null,
   "metadata": {},
   "outputs": [],
   "source": [
    "\n",
    "#print(sol[\"Time [s]\"])"
   ]
  }
 ],
 "metadata": {
  "kernelspec": {
   "display_name": "Python 3.9.12 64-bit",
   "language": "python",
   "name": "python3"
  },
  "language_info": {
   "codemirror_mode": {
    "name": "ipython",
    "version": 3
   },
   "file_extension": ".py",
   "mimetype": "text/x-python",
   "name": "python",
   "nbconvert_exporter": "python",
   "pygments_lexer": "ipython3",
   "version": "3.9.12"
  },
  "orig_nbformat": 4,
  "vscode": {
   "interpreter": {
    "hash": "11938c6bc6919ae2720b4d5011047913343b08a43b18698fd82dedb0d4417594"
   }
  }
 },
 "nbformat": 4,
 "nbformat_minor": 2
}
