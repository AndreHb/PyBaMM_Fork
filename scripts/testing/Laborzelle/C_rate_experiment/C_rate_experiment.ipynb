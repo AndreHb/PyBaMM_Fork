{
 "cells": [
  {
   "attachments": {},
   "cell_type": "markdown",
   "metadata": {},
   "source": [
    "# Pybamm - C-Rate Experiment - Testnotebook\n",
    "In diesem Notebook soll eine Simulation einer NMC811 Zelle mit Daten aus der Literatur basierend mit einem Laborzellenaufbau mit einem NMC811/Graphit PAT-Zellaufbau in 3-Elektrodenanordnung verglichen werden. Die Literaturdaten basieren auf einem Paper von Chen et al. aus dem Jahr 2020<sup>1</sup>. Für eine genaue Simulation werden charakterische Unterschiede zwischen den experimentellen und Literaturdaten bestimmt und, aufgrund der erkannten Unterschiede, die entsprechenden Parameter angepasst.\n",
    "\n",
    "Dies sind zum geometrische, elektrische und thermodynamische Eigenschaften. Auf diese wird an entsprechender Stelle im Verlauf des Notebooks mit Hinweis auf PyBaMMs zugrundliegende Struktur hingewiesen. \n",
    "\n",
    "Vor Beginn der Simulation müssen alle notwendigen Pakete geladen werden. Dabei ist allen voran das Modelltoolbox \"PyBaMM\" zu nennen.\n",
    "\n",
    "<sup>1</sup>: Chang-Hui Chen, Ferran Brosa Planella, Kieran O’Regan, Dominika Gastol, W. Dhammika Widanage, and Emma Kendrick. Development of Experimental Techniques for Parameterization of Multi-scale Lithium-ion Battery Models. Journal of The Electrochemical Society, 167(8):080534, 2020. doi:10.1149/1945-7111/ab9050 "
   ]
  },
  {
   "cell_type": "code",
   "execution_count": 2,
   "metadata": {},
   "outputs": [],
   "source": [
    "# pip install pybamm"
   ]
  },
  {
   "cell_type": "code",
   "execution_count": 3,
   "metadata": {
    "tags": [
     "Initialize"
    ]
   },
   "outputs": [],
   "source": [
    "# %reload_ext autoreload\n",
    "# %autoreload 2\n",
    "\n",
    "# %pip install pybamm -q    # install PyBaMM if it is not installed\n",
    "import pybamm\n",
    "import numpy as np\n",
    "import matplotlib.pyplot as plt\n",
    "import pathlib\n",
    "import os\n",
    "from datetime import datetime\n",
    "\n",
    "# os.chdir(pybamm.__path__[0]+'/..')\n",
    "# print(os.getcwd())\n",
    "# pybamm.PARAMETER_PATH\n",
    "# print(__file__)\n",
    "# print(os.path.dirname(__file__))"
   ]
  },
  {
   "attachments": {},
   "cell_type": "markdown",
   "metadata": {},
   "source": [
    "#### Determine your path!\n",
    "Bitte hier einmal deinen lokalen Pfand zu dem Verzeichnis wo das Skript lieght hinlegen. Ich habe es bei mir bisher leider nicht geschafft den Ablageort des Skripts direkt über Python zu bestimmten"
   ]
  },
  {
   "cell_type": "code",
   "execution_count": 4,
   "metadata": {},
   "outputs": [
    {
     "name": "stdout",
     "output_type": "stream",
     "text": [
      "c:\\Users\\ahe16\\Documents\\GitHub\\PyBaMM_Fork\\scripts\\testing\\Laborzelle\\C_rate_experiment\n"
     ]
    }
   ],
   "source": [
    "# pathlib.Path(\"\")\n",
    "# pathlib.Path.cwd()\n",
    "print(os.path.abspath(\"\"))"
   ]
  },
  {
   "attachments": {},
   "cell_type": "markdown",
   "metadata": {
    "tags": [
     "1 model choice"
    ]
   },
   "source": [
    "## 1 Modellwahl\n",
    "In der Arbeitsabfolge muss nächst anhand der Anforderungen an die zu gewinnen Modelllöung ein geeigneter Lithium Ionen Modellansatz gewählt werden. Bei Beachtung der Fragestellungen im Graduiertenkolleg wird ein elektrochemisches und physikalisches Modell gewählt, was eine gute Dokumentation und Genauigkeit aufweist. Das ist das *Doyle-Fuller-Newman* Modell. Dieses wird entsprechend auch für dieses C-Raten Beispiel gewählt, um möglichst sinnvolle Erfahrungen für die spätere Anwendung zu sammeln.\n",
    "\n",
    "Das in **PyBaMM** gewählte Modell legt fest welche Parameter für die Simulation benötigt werden. Die gesamte Liste kann über den Befehl `model.print_parameter_info` eingesehen werden. Die Parameter unterscheiden sich dabei in zwei Kategorien. Es gibt *Parameter*, die als Konstanten definiert werden, und es gibt *FunctionParameter*, die durch eine Funktion in Abhängigkeit von den gegebenen Inputgrößen berechnet werden.\n",
    "\n",
    "Mit den Parametern werden für das gewählte Modell eine Vielzahl von Variablen örtlich und/oder zeitlich berechnet. Diese können analog zu den Parametern durch den Befehl `model.variable_names` auch in Gänze ausgegeben werden. Zur Suche nach einzelnen Variablen in der \"dict\" Struktur kann außerdem der Befehl `model.variables.search(\"*suchbegriff*\")` genutzt werden.\n",
    "\n",
    "#### to do\n",
    "- Annahmen für das DFN Modell auflisten\n",
    "- Erweitert sich die Liste automatisch wenn man einzelne Untermodelle austauscht oder verändert?\n",
    "- Möglichkeit zur Nutzung mehrerer Modell für den direkten Vergleich mit aufnehmen"
   ]
  },
  {
   "cell_type": "code",
   "execution_count": 23,
   "metadata": {},
   "outputs": [
    {
     "name": "stdout",
     "output_type": "stream",
     "text": [
      "<bound method BaseModel.print_parameter_info of <pybamm.models.full_battery_models.lithium_ion.dfn.DFN object at 0x0000028AF7FEE940>>\n"
     ]
    }
   ],
   "source": [
    "dfn = pybamm.lithium_ion.DFN() # \"name\" beschreibt welchen Namen das Modell in der Lösung hat\n",
    "dfnD= pybamm.lithium_ion.DFN(options={\"particle\": \"quartic profile\"},name=\"dfnD\")\n",
    "geometry = dfn.default_geometry\n",
    "### Auflistung aller im Modell berücksichtigten Untermodelle #dict\n",
    "dfn.print_parameter_info\n",
    "# dfn.submodels[\"positive primary particle\"]"
   ]
  },
  {
   "cell_type": "code",
   "execution_count": 26,
   "metadata": {},
   "outputs": [
    {
     "name": "stdout",
     "output_type": "stream",
     "text": [
      "┌───────────────────────────────────────────────────────────┬─────────────────────────────────────────────────────────────────────────────────────────────────────────────────────────────────────────────────────────────────────────────────────────────────────────────┐\n",
      "│ Parameter                                                 │ Type of parameter                                                                                                                                                                                           │\n",
      "├───────────────────────────────────────────────────────────┼─────────────────────────────────────────────────────────────────────────────────────────────────────────────────────────────────────────────────────────────────────────────────────────────────────────────┤\n",
      "│ Number of cells connected in series to make a battery     │ Parameter                                                                                                                                                                                                   │\n",
      "│ Upper voltage cut-off [V]                                 │ Parameter                                                                                                                                                                                                   │\n",
      "│ Number of electrodes connected in parallel to make a cell │ Parameter                                                                                                                                                                                                   │\n",
      "│ Positive electrode thickness [m]                          │ Parameter                                                                                                                                                                                                   │\n",
      "│ Separator thickness [m]                                   │ Parameter                                                                                                                                                                                                   │\n",
      "│ Electrode width [m]                                       │ Parameter                                                                                                                                                                                                   │\n",
      "│ Ideal gas constant [J.K-1.mol-1]                          │ Parameter                                                                                                                                                                                                   │\n",
      "│ Faraday constant [C.mol-1]                                │ Parameter                                                                                                                                                                                                   │\n",
      "│ Negative electrode Bruggeman coefficient (electrode)      │ Parameter                                                                                                                                                                                                   │\n",
      "│ Negative electrode thickness [m]                          │ Parameter                                                                                                                                                                                                   │\n",
      "│ Negative electrode Bruggeman coefficient (electrolyte)    │ Parameter                                                                                                                                                                                                   │\n",
      "│ Initial temperature [K]                                   │ Parameter                                                                                                                                                                                                   │\n",
      "│ Electrode height [m]                                      │ Parameter                                                                                                                                                                                                   │\n",
      "│ Reference temperature [K]                                 │ Parameter                                                                                                                                                                                                   │\n",
      "│ Maximum concentration in positive electrode [mol.m-3]     │ Parameter                                                                                                                                                                                                   │\n",
      "│ Separator Bruggeman coefficient (electrolyte)             │ Parameter                                                                                                                                                                                                   │\n",
      "│ Positive electrode Bruggeman coefficient (electrode)      │ Parameter                                                                                                                                                                                                   │\n",
      "│ Nominal cell capacity [A.h]                               │ Parameter                                                                                                                                                                                                   │\n",
      "│ Lower voltage cut-off [V]                                 │ Parameter                                                                                                                                                                                                   │\n",
      "│ Maximum concentration in negative electrode [mol.m-3]     │ Parameter                                                                                                                                                                                                   │\n",
      "│ Positive electrode Bruggeman coefficient (electrolyte)    │ Parameter                                                                                                                                                                                                   │\n",
      "│ Initial concentration in electrolyte [mol.m-3]            │ Parameter                                                                                                                                                                                                   │\n",
      "│ Positive electrode OCP [V]                                │ FunctionParameter with inputs(s) 'Positive particle stoichiometry'                                                                                                                                          │\n",
      "│ Thermodynamic factor                                      │ FunctionParameter with inputs(s) 'Electrolyte concentration [mol.m-3]', 'Temperature [K]'                                                                                                                   │\n",
      "│ Negative electrode OCP entropic change [V.K-1]            │ FunctionParameter with inputs(s) 'Negative particle stoichiometry'                                                                                                                                          │\n",
      "│ Cation transference number                                │ FunctionParameter with inputs(s) 'Electrolyte concentration [mol.m-3]', 'Temperature [K]'                                                                                                                   │\n",
      "│ Negative particle radius [m]                              │ FunctionParameter with inputs(s) 'Through-cell distance (x) [m]'                                                                                                                                            │\n",
      "│ Positive electrode OCP entropic change [V.K-1]            │ FunctionParameter with inputs(s) 'Positive particle stoichiometry'                                                                                                                                          │\n",
      "│ Positive particle radius [m]                              │ FunctionParameter with inputs(s) 'Through-cell distance (x) [m]'                                                                                                                                            │\n",
      "│ Ambient temperature [K]                                   │ FunctionParameter with inputs(s) 'Distance across electrode width [m]', 'Distance across electrode height [m]', 'Time [s]'                                                                                  │\n",
      "│ Negative electrode porosity                               │ FunctionParameter with inputs(s) 'Through-cell distance (x) [m]'                                                                                                                                            │\n",
      "│ Negative electrode active material volume fraction        │ FunctionParameter with inputs(s) 'Through-cell distance (x) [m]'                                                                                                                                            │\n",
      "│ Electrolyte diffusivity [m2.s-1]                          │ FunctionParameter with inputs(s) 'Electrolyte concentration [mol.m-3]', 'Temperature [K]'                                                                                                                   │\n",
      "│ Positive electrode conductivity [S.m-1]                   │ FunctionParameter with inputs(s) 'Temperature [K]'                                                                                                                                                          │\n",
      "│ Positive electrode exchange-current density [A.m-2]       │ FunctionParameter with inputs(s) 'Electrolyte concentration [mol.m-3]', 'Positive particle surface concentration [mol.m-3]', 'Maximum positive particle surface concentration [mol.m-3]', 'Temperature [K]' │\n",
      "│ Current function [A]                                      │ FunctionParameter with inputs(s) 'Time [s]'                                                                                                                                                                 │\n",
      "│ Negative electrode conductivity [S.m-1]                   │ FunctionParameter with inputs(s) 'Temperature [K]'                                                                                                                                                          │\n",
      "│ Positive electrode active material volume fraction        │ FunctionParameter with inputs(s) 'Through-cell distance (x) [m]'                                                                                                                                            │\n",
      "│ Negative electrode OCP [V]                                │ FunctionParameter with inputs(s) 'Negative particle stoichiometry'                                                                                                                                          │\n",
      "│ Separator porosity                                        │ FunctionParameter with inputs(s) 'Through-cell distance (x) [m]'                                                                                                                                            │\n",
      "│ Positive electrode porosity                               │ FunctionParameter with inputs(s) 'Through-cell distance (x) [m]'                                                                                                                                            │\n",
      "│ Initial concentration in positive electrode [mol.m-3]     │ FunctionParameter with inputs(s) 'Radial distance (r) [m]', 'Through-cell distance (x) [m]'                                                                                                                 │\n",
      "│ Positive particle diffusivity [m2.s-1]                    │ FunctionParameter with inputs(s) 'Positive particle stoichiometry', 'Temperature [K]'                                                                                                                       │\n",
      "│ Negative electrode exchange-current density [A.m-2]       │ FunctionParameter with inputs(s) 'Electrolyte concentration [mol.m-3]', 'Negative particle surface concentration [mol.m-3]', 'Maximum negative particle surface concentration [mol.m-3]', 'Temperature [K]' │\n",
      "│ Initial concentration in negative electrode [mol.m-3]     │ FunctionParameter with inputs(s) 'Radial distance (r) [m]', 'Through-cell distance (x) [m]'                                                                                                                 │\n",
      "│ Negative particle diffusivity [m2.s-1]                    │ FunctionParameter with inputs(s) 'Negative particle stoichiometry', 'Temperature [K]'                                                                                                                       │\n",
      "│ Electrolyte conductivity [S.m-1]                          │ FunctionParameter with inputs(s) 'Electrolyte concentration [mol.m-3]', 'Temperature [K]'                                                                                                                   │\n",
      "└───────────────────────────────────────────────────────────┴─────────────────────────────────────────────────────────────────────────────────────────────────────────────────────────────────────────────────────────────────────────────────────────────────────────────┘\n",
      "\n"
     ]
    }
   ],
   "source": [
    "variables=dfn.print_parameter_info()"
   ]
  },
  {
   "cell_type": "markdown",
   "metadata": {},
   "source": [
    "#### List all submodels\n",
    "Hier sin die Namen aller Untermodell aufgelistet, die im `dfn` Modell standardmäßig genutzt werden\n"
   ]
  },
  {
   "cell_type": "code",
   "execution_count": 6,
   "metadata": {},
   "outputs": [
    {
     "name": "stdout",
     "output_type": "stream",
     "text": [
      "external circuit <pybamm.models.submodels.external_circuit.explicit_control_external_circuit.ExplicitCurrentControl object at 0x0000028AF7DD4130>\n",
      "discharge and throughput variables <pybamm.models.submodels.external_circuit.discharge_throughput.DischargeThroughput object at 0x0000028AF7DDB100>\n",
      "porosity <pybamm.models.submodels.porosity.constant_porosity.Constant object at 0x0000028AF7DDB160>\n",
      "Negative interface utilisation <pybamm.models.submodels.interface.interface_utilisation.full_utilisation.Full object at 0x0000028AF7DDB280>\n",
      "Positive interface utilisation <pybamm.models.submodels.interface.interface_utilisation.full_utilisation.Full object at 0x0000028AF7DDB2E0>\n",
      "negative primaryparticle mechanics <pybamm.models.submodels.particle_mechanics.no_mechanics.NoMechanics object at 0x0000028AF7DDB370>\n",
      "positive primaryparticle mechanics <pybamm.models.submodels.particle_mechanics.no_mechanics.NoMechanics object at 0x0000028AF7DDB400>\n",
      "negative primary active material <pybamm.models.submodels.active_material.constant_active_material.Constant object at 0x0000028AF7DDB310>\n",
      "positive primary active material <pybamm.models.submodels.active_material.constant_active_material.Constant object at 0x0000028AF7DDB340>\n",
      "electrolyte transport efficiency <pybamm.models.submodels.transport_efficiency.bruggeman.Bruggeman object at 0x0000028AF7DDB220>\n",
      "electrode transport efficiency <pybamm.models.submodels.transport_efficiency.bruggeman.Bruggeman object at 0x0000028AF7DDB4F0>\n",
      "transverse convection <pybamm.models.submodels.convection.transverse.no_convection.NoConvection object at 0x0000028AF7DDB520>\n",
      "through-cell convection <pybamm.models.submodels.convection.through_cell.no_convection.NoConvection object at 0x0000028AF7DDB580>\n",
      "negative primary open-circuit potential <pybamm.models.submodels.interface.open_circuit_potential.single_ocp.SingleOpenCircuitPotential object at 0x0000028AF7DDB670>\n",
      "positive primary open-circuit potential <pybamm.models.submodels.interface.open_circuit_potential.single_ocp.SingleOpenCircuitPotential object at 0x0000028AF7DDB610>\n",
      "negative primary interface <pybamm.models.submodels.interface.kinetics.butler_volmer.SymmetricButlerVolmer object at 0x0000028AF7DDB5E0>\n",
      "positive primary interface <pybamm.models.submodels.interface.kinetics.butler_volmer.SymmetricButlerVolmer object at 0x0000028AF7DDB640>\n",
      "negative primary particle <pybamm.models.submodels.particle.fickian_diffusion.FickianDiffusion object at 0x0000028AF7DDB700>\n",
      "negative primary total particle concentration <pybamm.models.submodels.particle.total_particle_concentration.TotalConcentration object at 0x0000028AF7DDB820>\n",
      "positive primary particle <pybamm.models.submodels.particle.fickian_diffusion.FickianDiffusion object at 0x0000028AF7DDB790>\n",
      "positive primary total particle concentration <pybamm.models.submodels.particle.total_particle_concentration.TotalConcentration object at 0x0000028AF7DDB8E0>\n",
      "negative electrode potential <pybamm.models.submodels.electrode.ohm.full_ohm.Full object at 0x0000028AF7DDB880>\n",
      "positive electrode potential <pybamm.models.submodels.electrode.ohm.full_ohm.Full object at 0x0000028AF7DDB970>\n",
      "electrolyte diffusion <pybamm.models.submodels.electrolyte_diffusion.full_diffusion.Full object at 0x0000028AF7DDB6A0>\n",
      "electrolyte conductivity <pybamm.models.submodels.electrolyte_conductivity.full_conductivity.Full object at 0x0000028AF7DDBA00>\n",
      "negative surface potential difference <pybamm.models.submodels.electrolyte_conductivity.surface_potential_form.explicit_surface_form_conductivity.Explicit object at 0x0000028AF7DDBA90>\n",
      "separator surface potential difference <pybamm.models.submodels.electrolyte_conductivity.surface_potential_form.explicit_surface_form_conductivity.Explicit object at 0x0000028AF7DDBAF0>\n",
      "positive surface potential difference <pybamm.models.submodels.electrolyte_conductivity.surface_potential_form.explicit_surface_form_conductivity.Explicit object at 0x0000028AF7DDBBB0>\n",
      "thermal <pybamm.models.submodels.thermal.isothermal.Isothermal object at 0x0000028AF7DDBA60>\n",
      "surface temperature <pybamm.models.submodels.thermal.surface.ambient.Ambient object at 0x0000028AF7DDBC40>\n",
      "current collector <pybamm.models.submodels.current_collector.homogeneous_current_collector.Uniform object at 0x0000028AF7DDBCA0>\n",
      "negative primary sei <pybamm.models.submodels.interface.sei.no_sei.NoSEI object at 0x0000028AF7DD4F40>\n",
      "positive primary sei <pybamm.models.submodels.interface.sei.no_sei.NoSEI object at 0x0000028AF7DD4BB0>\n",
      "negative primary sei on cracks <pybamm.models.submodels.interface.sei.no_sei.NoSEI object at 0x0000028AF7DD4640>\n",
      "positive primary sei on cracks <pybamm.models.submodels.interface.sei.no_sei.NoSEI object at 0x0000028AF7DAFAF0>\n",
      "negative primary lithium plating <pybamm.models.submodels.interface.lithium_plating.no_plating.NoPlating object at 0x0000028AF7DAF670>\n",
      "positive primary lithium plating <pybamm.models.submodels.interface.lithium_plating.no_plating.NoPlating object at 0x0000028AF7DC6A90>\n",
      "total interface <pybamm.models.submodels.interface.total_interfacial_current.TotalInterfacialCurrent object at 0x0000028AF7DD40D0>\n"
     ]
    },
    {
     "data": {
      "text/plain": [
       "{Variable(-0x15aab167273fbbd7, Discharge capacity [A.h], children=[], domains={}): Multiplication(-0x5e6f4cb91296c2ad, *, children=['0.0002777777777777778', 'Current function [A]'], domains={}),\n",
       " Variable(0x21ebf2d919fc228b, Throughput capacity [A.h], children=[], domains={}): Multiplication(-0x4966a79efc73e93d, *, children=['0.0002777777777777778', 'abs(Current function [A])'], domains={}),\n",
       " Variable(0x40307b78df85cd2d, Negative particle concentration [mol.m-3], children=[], domains={'primary': ['negative particle'], 'secondary': ['negative electrode'], 'tertiary': ['current collector']}): Multiplication(-0x4891a3eb610918ad, *, children=['broadcast(-1.0 / ((Negative particle radius [m] / Negative particle radius [m]) ** 2.0))', '-div(Negative particle diffusivity [m2.s-1] * grad(Negative particle concentration [mol.m-3]))'], domains={'primary': ['negative particle'], 'secondary': ['negative electrode'], 'tertiary': ['current collector']}),\n",
       " Variable(-0x37be18f6c4e57d3, Positive particle concentration [mol.m-3], children=[], domains={'primary': ['positive particle'], 'secondary': ['positive electrode'], 'tertiary': ['current collector']}): Multiplication(-0x60c007ce8a9a729b, *, children=['broadcast(-1.0 / ((Positive particle radius [m] / Positive particle radius [m]) ** 2.0))', '-div(Positive particle diffusivity [m2.s-1] * grad(Positive particle concentration [mol.m-3]))'], domains={'primary': ['positive particle'], 'secondary': ['positive electrode'], 'tertiary': ['current collector']}),\n",
       " ConcatenationVariable(0x45d289d516bc62da, Porosity times concentration [mol.m-3], children=['Negative electrode porosity times concentration [mol.m-3]', 'Separator porosity times concentration [mol.m-3]', 'Positive electrode porosity times concentration [mol.m-3]'], domains={'primary': ['negative electrode', 'separator', 'positive electrode'], 'secondary': ['current collector']}): Subtraction(0x44f858d4a803a117, -, children=['concatenation((3.0 * Negative electrode active material volume fraction / Negative particle radius [m]) * 2.0 * Negative electrode exchange-current density [A.m-2] * sinh(0.5 * Faraday constant [C.mol-1] * (Negative electrode potential [V] - Negative electrolyte potential [V] - (Negative electrode OCP [V] + broadcast(Ambient temperature [K] - Reference temperature [K]) * Negative electrode OCP entropic change [V.K-1] + 1e-06 * (1.0 / (maximum(minimum(boundary value(Negative particle concentration [mol.m-3]) / Maximum concentration in negative electrode [mol.m-3], 0.9999999999), 1e-10)) + 1.0 / (-1.0 + maximum(minimum(boundary value(Negative particle concentration [mol.m-3]) / Maximum concentration in negative electrode [mol.m-3], 0.9999999999), 1e-10))))) / broadcast(Ideal gas constant [J.K-1.mol-1] * Ambient temperature [K])), broadcast(0.0), (3.0 * Positive electrode active material volume fraction / Positive particle radius [m]) * 2.0 * Positive electrode exchange-current density [A.m-2] * sinh(0.5 * Faraday constant [C.mol-1] * (Positive electrode potential [V] - Positive electrolyte potential [V] - (Positive electrode OCP [V] + broadcast(Ambient temperature [K] - Reference temperature [K]) * Positive electrode OCP entropic change [V.K-1] + 1e-06 * (1.0 / (maximum(minimum(boundary value(Positive particle concentration [mol.m-3]) / Maximum concentration in positive electrode [mol.m-3], 0.9999999999), 1e-10)) + 1.0 / (-1.0 + maximum(minimum(boundary value(Positive particle concentration [mol.m-3]) / Maximum concentration in positive electrode [mol.m-3], 0.9999999999), 1e-10))))) / broadcast(Ideal gas constant [J.K-1.mol-1] * Ambient temperature [K]))) / Faraday constant [C.mol-1]', 'div(-concatenation(Negative electrode porosity ** Negative electrode Bruggeman coefficient (electrolyte), Separator porosity ** Separator Bruggeman coefficient (electrolyte), Positive electrode porosity ** Positive electrode Bruggeman coefficient (electrolyte)) * Electrolyte diffusivity [m2.s-1] * grad(Porosity times concentration [mol.m-3](Negative electrode porosity times concentration [mol.m-3], Separator porosity times concentration [mol.m-3], Positive electrode porosity times concentration [mol.m-3]) / concatenation(Negative electrode porosity, Separator porosity, Positive electrode porosity)) + Cation transference number * Electrolyte conductivity [S.m-1] * concatenation(Negative electrode porosity ** Negative electrode Bruggeman coefficient (electrolyte), Separator porosity ** Separator Bruggeman coefficient (electrolyte), Positive electrode porosity ** Positive electrode Bruggeman coefficient (electrolyte)) * (((broadcast(Ideal gas constant [J.K-1.mol-1] * Ambient temperature [K] / Faraday constant [C.mol-1]) * (2.0 - (2.0 * Cation transference number)) * Thermodynamic factor / (maximum(Porosity times concentration [mol.m-3](Negative electrode porosity times concentration [mol.m-3], Separator porosity times concentration [mol.m-3], Positive electrode porosity times concentration [mol.m-3]) / concatenation(Negative electrode porosity, Separator porosity, Positive electrode porosity), 0.01))) * grad(Porosity times concentration [mol.m-3](Negative electrode porosity times concentration [mol.m-3], Separator porosity times concentration [mol.m-3], Positive electrode porosity times concentration [mol.m-3]) / concatenation(Negative electrode porosity, Separator porosity, Positive electrode porosity))) - grad(Electrolyte potential [V](Negative electrolyte potential [V], Separator electrolyte potential [V], Positive electrolyte potential [V]))) / Faraday constant [C.mol-1])'], domains={'primary': ['negative electrode', 'separator', 'positive electrode'], 'secondary': ['current collector']})}"
      ]
     },
     "execution_count": 6,
     "metadata": {},
     "output_type": "execute_result"
    }
   ],
   "source": [
    "for name, submodel in dfn.submodels.items():\n",
    "    print(name, submodel)\n",
    "dfn.rhs"
   ]
  },
  {
   "attachments": {},
   "cell_type": "markdown",
   "metadata": {},
   "source": [
    "### 1.1 Untermodellwahl\n",
    "Jedes in **1** gewählte Lihtium-Ionen Batteriemodell ist modular aus mehreren Untermodellen aufgebaut, die zum Teil Parameter unabhängig von anderen Modellen einführen `fundamental variables` und andere Variablen `coupled variables`, die sich mit anderen Modellen geteilt werden. \n",
    "\n",
    "Die Wahl der tatsächlich zu simulierenden Modelle kann derzeit am einfachsten durch die Veränderung der `models` Liste durchgeführt werden.\n",
    "\n",
    "#### to-do\n"
   ]
  },
  {
   "cell_type": "code",
   "execution_count": 7,
   "metadata": {},
   "outputs": [],
   "source": [
    "part_mech_submodel={\"particle mechanics\":\"swelling only\"} # \"thermal\" : \"lumped\"\n",
    "tme_dfn = pybamm.lithium_ion.DFN(options=part_mech_submodel,name=\"LumT-SwP-DFN\")\n",
    "dfn_ParMech=dfn.submodels[\"negative primaryparticle mechanics\"]\n",
    "dfn_thermal=dfn.submodels[\"thermal\"]\n",
    "tme_dfn_ParMech=tme_dfn.submodels[\"negative primaryparticle mechanics\"]\n",
    "tme_dfn_thermal=tme_dfn.submodels[\"thermal\"]\n",
    "\n",
    "models= [dfn] #, dfn\n",
    "# pybamm.thermal.lumped.Lumped\n",
    "# pybamm.dynamic_plot(sols, [\"Terminal voltage [V]\",\"Volume-averaged cell temperature [K]\"])"
   ]
  },
  {
   "cell_type": "code",
   "execution_count": 8,
   "metadata": {},
   "outputs": [
    {
     "name": "stdout",
     "output_type": "stream",
     "text": [
      "<pybamm.models.submodels.thermal.isothermal.Isothermal object at 0x0000028AF80D9FD0>\n",
      "<pybamm.models.submodels.particle_mechanics.no_mechanics.NoMechanics object at 0x0000028AF7DDB370>\n",
      "<pybamm.models.submodels.particle_mechanics.swelling_only.SwellingOnly object at 0x0000028AF80D9AF0>\n",
      "{'external circuit': <pybamm.models.submodels.external_circuit.explicit_control_external_circuit.ExplicitCurrentControl object at 0x0000028AF80C6FA0>, 'discharge and throughput variables': <pybamm.models.submodels.external_circuit.discharge_throughput.DischargeThroughput object at 0x0000028AF80C6760>, 'porosity': <pybamm.models.submodels.porosity.constant_porosity.Constant object at 0x0000028AF80C67C0>, 'Negative interface utilisation': <pybamm.models.submodels.interface.interface_utilisation.full_utilisation.Full object at 0x0000028AF80ABD00>, 'Positive interface utilisation': <pybamm.models.submodels.interface.interface_utilisation.full_utilisation.Full object at 0x0000028AF80BC550>, 'negative primaryparticle mechanics': <pybamm.models.submodels.particle_mechanics.swelling_only.SwellingOnly object at 0x0000028AF80D9AF0>, 'positive primaryparticle mechanics': <pybamm.models.submodels.particle_mechanics.swelling_only.SwellingOnly object at 0x0000028AF80D9DC0>, 'negative primary active material': <pybamm.models.submodels.active_material.constant_active_material.Constant object at 0x0000028AF80D93A0>, 'positive primary active material': <pybamm.models.submodels.active_material.constant_active_material.Constant object at 0x0000028AF80D9C70>, 'electrolyte transport efficiency': <pybamm.models.submodels.transport_efficiency.bruggeman.Bruggeman object at 0x0000028AF80C6310>, 'electrode transport efficiency': <pybamm.models.submodels.transport_efficiency.bruggeman.Bruggeman object at 0x0000028AF80D9B80>, 'transverse convection': <pybamm.models.submodels.convection.transverse.no_convection.NoConvection object at 0x0000028AF80D9B50>, 'through-cell convection': <pybamm.models.submodels.convection.through_cell.no_convection.NoConvection object at 0x0000028AF80D9070>, 'negative primary open-circuit potential': <pybamm.models.submodels.interface.open_circuit_potential.single_ocp.SingleOpenCircuitPotential object at 0x0000028AF80D9760>, 'positive primary open-circuit potential': <pybamm.models.submodels.interface.open_circuit_potential.single_ocp.SingleOpenCircuitPotential object at 0x0000028AF80D9880>, 'negative primary interface': <pybamm.models.submodels.interface.kinetics.butler_volmer.SymmetricButlerVolmer object at 0x0000028AF80D9910>, 'positive primary interface': <pybamm.models.submodels.interface.kinetics.butler_volmer.SymmetricButlerVolmer object at 0x0000028AF80D97F0>, 'negative primary particle': <pybamm.models.submodels.particle.fickian_diffusion.FickianDiffusion object at 0x0000028AF80D95E0>, 'negative primary total particle concentration': <pybamm.models.submodels.particle.total_particle_concentration.TotalConcentration object at 0x0000028AF80D91C0>, 'positive primary particle': <pybamm.models.submodels.particle.fickian_diffusion.FickianDiffusion object at 0x0000028AF80D9460>, 'positive primary total particle concentration': <pybamm.models.submodels.particle.total_particle_concentration.TotalConcentration object at 0x0000028AF80D9E50>, 'negative electrode potential': <pybamm.models.submodels.electrode.ohm.full_ohm.Full object at 0x0000028AF80D9DF0>, 'positive electrode potential': <pybamm.models.submodels.electrode.ohm.full_ohm.Full object at 0x0000028AF80D9EE0>, 'electrolyte diffusion': <pybamm.models.submodels.electrolyte_diffusion.full_diffusion.Full object at 0x0000028AF80D9730>, 'electrolyte conductivity': <pybamm.models.submodels.electrolyte_conductivity.full_conductivity.Full object at 0x0000028AF80D9F70>, 'negative surface potential difference': <pybamm.models.submodels.electrolyte_conductivity.surface_potential_form.explicit_surface_form_conductivity.Explicit object at 0x0000028AF80E7040>, 'separator surface potential difference': <pybamm.models.submodels.electrolyte_conductivity.surface_potential_form.explicit_surface_form_conductivity.Explicit object at 0x0000028AF80E70A0>, 'positive surface potential difference': <pybamm.models.submodels.electrolyte_conductivity.surface_potential_form.explicit_surface_form_conductivity.Explicit object at 0x0000028AF80E7100>, 'thermal': <pybamm.models.submodels.thermal.isothermal.Isothermal object at 0x0000028AF80D9FD0>, 'surface temperature': <pybamm.models.submodels.thermal.surface.ambient.Ambient object at 0x0000028AF80E7190>, 'current collector': <pybamm.models.submodels.current_collector.homogeneous_current_collector.Uniform object at 0x0000028AF80E71F0>, 'negative primary sei': <pybamm.models.submodels.interface.sei.no_sei.NoSEI object at 0x0000028AF80E72E0>, 'positive primary sei': <pybamm.models.submodels.interface.sei.no_sei.NoSEI object at 0x0000028AF80E7340>, 'negative primary sei on cracks': <pybamm.models.submodels.interface.sei.no_sei.NoSEI object at 0x0000028AD40330D0>, 'positive primary sei on cracks': <pybamm.models.submodels.interface.sei.no_sei.NoSEI object at 0x0000028AF80E72B0>, 'negative primary lithium plating': <pybamm.models.submodels.interface.lithium_plating.no_plating.NoPlating object at 0x0000028AF80E7370>, 'positive primary lithium plating': <pybamm.models.submodels.interface.lithium_plating.no_plating.NoPlating object at 0x0000028AF80E7400>, 'total interface': <pybamm.models.submodels.interface.total_interfacial_current.TotalInterfacialCurrent object at 0x0000028AD3EFE400>}\n"
     ]
    }
   ],
   "source": [
    "print(tme_dfn_thermal)\n",
    "print(dfn_ParMech)\n",
    "print(tme_dfn_ParMech)\n",
    "\n",
    "print(tme_dfn.submodels) #list of all submodels in this model"
   ]
  },
  {
   "attachments": {},
   "cell_type": "markdown",
   "metadata": {},
   "source": [
    "### 1.2 Festellen der Anforderungen der benötigten Parameter\n",
    "Je nach Wahl der Untermodelle, müssen verschiedene Parameter und FunctionParameter bereitgestellt werden. Bei der Gestaltung des Modells wird vorausgesetzt welche Parameter und FunctionParameter gebraucht werden. Es ist dabei im Folgenden darauf zu achten, dass diese mit den Angaben des genutzten Parametersets übereinstimmen. Es gilt folgendes:\n",
    "- FunctionParameter können mit Funktion oder Konstante definiert sein. Es ist zu beachten, dass der Input der FunctionParameter entsprechend der Vorgabe des Modells/Untermodells gewählt werden müssen.\n",
    "- Parameter müssen mit einem Skalar definiert sein\n",
    "\n",
    "Wie kann man bei den FunctionParametern erkennen welche Eingaben benötigt werden?"
   ]
  },
  {
   "cell_type": "code",
   "execution_count": 9,
   "metadata": {},
   "outputs": [
    {
     "data": {
      "text/plain": [
       "[Parameter(0x41cc42b74f69a805, Number of cells connected in series to make a battery, children=[], domains={}),\n",
       " FunctionParameter(-0x49bfc773b61699fa, Thermodynamic factor, children=['maximum(Positive electrode porosity times concentration [mol.m-3] / Positive electrode porosity, 0.01)', 'broadcast(Ambient temperature [K])'], domains={'primary': ['positive electrode'], 'secondary': ['current collector']}),\n",
       " FunctionParameter(-0x31740dfdaf7531f8, Negative electrode OCP entropic change [V.K-1], children=['maximum(minimum(boundary value(Negative particle concentration [mol.m-3]) / Maximum concentration in negative electrode [mol.m-3], 0.9999999999), 1e-10)'], domains={'primary': ['negative electrode'], 'secondary': ['current collector']}),\n",
       " FunctionParameter(-0x4720965be59077f4, Negative particle radius [m], children=['x_n'], domains={'primary': ['negative electrode'], 'secondary': ['current collector']}),\n",
       " FunctionParameter(0x1d9086469cddd90d, Positive electrode OCP entropic change [V.K-1], children=['boundary value(Positive particle concentration [mol.m-3]) / Maximum concentration in positive electrode [mol.m-3]'], domains={'primary': ['positive electrode'], 'secondary': ['current collector']}),\n",
       " FunctionParameter(-0x3ef6f2a7c677c9f1, Positive particle radius [m], children=['x_p'], domains={'primary': ['positive electrode'], 'secondary': ['current collector']}),\n",
       " Parameter(-0x6e14936f56f38ee8, Separator thickness [m], children=[], domains={}),\n",
       " Parameter(0x778e750fc18abb1d, Initial temperature [K], children=[], domains={}),\n",
       " Parameter(0x7f7e045eafc94a1e, Faraday constant [C.mol-1], children=[], domains={}),\n",
       " Parameter(0x4d53915f042af121, Negative electrode Bruggeman coefficient (electrolyte), children=[], domains={}),\n",
       " FunctionParameter(-0x7bd9ba2c161525dc, Ambient temperature [K], children=['y', 'z', 'time'], domains={'primary': ['current collector']}),\n",
       " FunctionParameter(-0x4bbfd4f84035d2da, Negative electrode porosity, children=['x_n'], domains={'primary': ['negative electrode'], 'secondary': ['current collector']}),\n",
       " FunctionParameter(0x1b6eb9f423d00626, Electrolyte diffusivity [m2.s-1], children=['maximum(Porosity times concentration [mol.m-3](Negative electrode porosity times concentration [mol.m-3], Separator porosity times concentration [mol.m-3], Positive electrode porosity times concentration [mol.m-3]) / concatenation(Negative electrode porosity, Separator porosity, Positive electrode porosity), 10.0)', 'broadcast(Ambient temperature [K])'], domains={'primary': ['negative electrode', 'separator', 'positive electrode'], 'secondary': ['current collector']}),\n",
       " FunctionParameter(-0x225638bcf05a65da, Positive electrode conductivity [S.m-1], children=['broadcast(Ambient temperature [K])'], domains={'primary': ['positive electrode'], 'secondary': ['current collector']}),\n",
       " FunctionParameter(0x39421b689e3c352a, Positive electrode exchange-current density [A.m-2], children=['maximum(Positive electrode porosity times concentration [mol.m-3] / Positive electrode porosity, 1e-08)', 'maximum(minimum(boundary value(Positive particle concentration [mol.m-3]), 0.99999999 * Maximum concentration in positive electrode [mol.m-3]), 1e-08 * Maximum concentration in positive electrode [mol.m-3])', 'Maximum concentration in positive electrode [mol.m-3]', 'broadcast(Ambient temperature [K])'], domains={'primary': ['positive electrode'], 'secondary': ['current collector']}),\n",
       " Parameter(-0x6acd3932ad6173d0, Lower voltage cut-off [V], children=[], domains={}),\n",
       " FunctionParameter(-0x1cec4b76a77687cf, Positive electrode active material volume fraction, children=['x_p'], domains={'primary': ['positive electrode'], 'secondary': ['current collector']}),\n",
       " FunctionParameter(0x2ee82117a1fe6b33, Ambient temperature [K], children=['y', 'z', 'broadcast(time)'], domains={'primary': ['current collector']}),\n",
       " FunctionParameter(-0x19921b86c2d2dc7, Positive electrode OCP [V], children=['maximum(minimum(x-average(Positive electrode active material volume fraction * r-average(Positive particle concentration [mol.m-3])) / x-average(Positive electrode active material volume fraction) / Maximum concentration in positive electrode [mol.m-3], 0.9999999999), 1e-10)'], domains={'primary': ['current collector']}),\n",
       " Parameter(0x7bf26f24c9ae7e3c, Positive electrode Bruggeman coefficient (electrolyte), children=[], domains={}),\n",
       " FunctionParameter(0x320fb7009948443f, Negative electrode OCP [V], children=['maximum(minimum(boundary value(Negative particle concentration [mol.m-3]) / Maximum concentration in negative electrode [mol.m-3], 0.9999999999), 1e-10)'], domains={'primary': ['negative electrode'], 'secondary': ['current collector']}),\n",
       " FunctionParameter(0x10f195ff4b87b140, Separator porosity, children=['x_s'], domains={'primary': ['separator'], 'secondary': ['current collector']}),\n",
       " FunctionParameter(-0x3de984c85462bab4, Negative electrode OCP entropic change [V.K-1], children=['maximum(minimum(yz-average(x-average(r-average(Initial concentration in negative electrode [mol.m-3]))) / Maximum concentration in negative electrode [mol.m-3], 0.9999999999), 1e-10)'], domains={}),\n",
       " FunctionParameter(-0x45a08a9edb320cb1, Positive particle radius [m], children=['Negative electrode thickness [m] + Separator thickness [m] + 0.5 * Positive electrode thickness [m]'], domains={}),\n",
       " FunctionParameter(0x7ece8f2a14f2ae52, Positive electrode OCP entropic change [V.K-1], children=['maximum(minimum(yz-average(x-average(r-average(Initial concentration in positive electrode [mol.m-3]))) / Maximum concentration in positive electrode [mol.m-3], 0.9999999999), 1e-10)'], domains={}),\n",
       " Parameter(-0x80203fa8c63d106, Maximum concentration in negative electrode [mol.m-3], children=[], domains={}),\n",
       " Parameter(-0x2c0516a6b273c4a1, Negative electrode Bruggeman coefficient (electrode), children=[], domains={}),\n",
       " Parameter(-0x58ec5b3b41b7249a, Reference temperature [K], children=[], domains={}),\n",
       " FunctionParameter(0x420a877f2cdb8e68, Positive electrode OCP [V], children=['maximum(minimum(yz-average(x-average(r-average(Initial concentration in positive electrode [mol.m-3]))) / Maximum concentration in positive electrode [mol.m-3], 0.9999999999), 1e-10)'], domains={}),\n",
       " FunctionParameter(-0x1b8b561dfbd8aa97, Cation transference number, children=['maximum(Separator porosity times concentration [mol.m-3] / Separator porosity, 0.01)', 'broadcast(Ambient temperature [K])'], domains={'primary': ['separator'], 'secondary': ['current collector']}),\n",
       " Parameter(-0x36d72a44239a7395, Positive electrode Bruggeman coefficient (electrode), children=[], domains={}),\n",
       " FunctionParameter(-0x25fdb7767e61fb94, Cation transference number, children=['maximum(Positive electrode porosity times concentration [mol.m-3] / Positive electrode porosity, 0.01)', 'broadcast(Ambient temperature [K])'], domains={'primary': ['positive electrode'], 'secondary': ['current collector']}),\n",
       " FunctionParameter(-0x5a15d3a07d153b8b, Negative particle diffusivity [m2.s-1], children=['maximum(minimum(Negative particle concentration [mol.m-3] / Maximum concentration in negative electrode [mol.m-3], 0.9999999999), 1e-10)', 'broadcast(broadcast(Ambient temperature [K]))'], domains={'primary': ['negative particle'], 'secondary': ['negative electrode'], 'tertiary': ['current collector']}),\n",
       " FunctionParameter(0x227b20334686ec7c, Thermodynamic factor, children=['maximum(Separator porosity times concentration [mol.m-3] / Separator porosity, 0.01)', 'broadcast(Ambient temperature [K])'], domains={'primary': ['separator'], 'secondary': ['current collector']}),\n",
       " FunctionParameter(-0x7b37463f93887880, Positive electrode OCP [V], children=['maximum(minimum(boundary value(Positive particle concentration [mol.m-3]) / Maximum concentration in positive electrode [mol.m-3], 0.9999999999), 1e-10)'], domains={'primary': ['positive electrode'], 'secondary': ['current collector']}),\n",
       " FunctionParameter(-0x70d0b12707f94677, Cation transference number, children=['maximum(Porosity times concentration [mol.m-3](Negative electrode porosity times concentration [mol.m-3], Separator porosity times concentration [mol.m-3], Positive electrode porosity times concentration [mol.m-3]) / concatenation(Negative electrode porosity, Separator porosity, Positive electrode porosity), 0.01)', 'broadcast(Ambient temperature [K])'], domains={'primary': ['negative electrode', 'separator', 'positive electrode'], 'secondary': ['current collector']}),\n",
       " Parameter(-0x6df3770d49e47574, Number of electrodes connected in parallel to make a cell, children=[], domains={}),\n",
       " FunctionParameter(0x6d3a55c01e0fe98c, Positive electrode OCP entropic change [V.K-1], children=['maximum(minimum(x-average(Positive electrode active material volume fraction * r-average(Positive particle concentration [mol.m-3])) / x-average(Positive electrode active material volume fraction) / Maximum concentration in positive electrode [mol.m-3], 0.9999999999), 1e-10)'], domains={'primary': ['current collector']}),\n",
       " FunctionParameter(-0x55e5975f30c23d6c, Negative particle radius [m], children=['0.5 * Negative electrode thickness [m]'], domains={}),\n",
       " FunctionParameter(-0x1cd622a3ed522b64, Cation transference number, children=['Porosity times concentration [mol.m-3](Negative electrode porosity times concentration [mol.m-3], Separator porosity times concentration [mol.m-3], Positive electrode porosity times concentration [mol.m-3]) / concatenation(Negative electrode porosity, Separator porosity, Positive electrode porosity)', 'broadcast(Ambient temperature [K])'], domains={'primary': ['negative electrode', 'separator', 'positive electrode'], 'secondary': ['current collector']}),\n",
       " Parameter(0x569c7abc2193709d, Ideal gas constant [J.K-1.mol-1], children=[], domains={}),\n",
       " Parameter(0x4bf72b5449e7afa4, Electrode height [m], children=[], domains={}),\n",
       " FunctionParameter(-0x7e3265e157b5359, Negative electrode active material volume fraction, children=['x_n'], domains={'primary': ['negative electrode'], 'secondary': ['current collector']}),\n",
       " Parameter(0x60519dc588704aa8, Maximum concentration in positive electrode [mol.m-3], children=[], domains={}),\n",
       " FunctionParameter(-0x2f0569f8781e1659, Negative electrode OCP entropic change [V.K-1], children=['boundary value(Negative particle concentration [mol.m-3]) / Maximum concentration in negative electrode [mol.m-3]'], domains={'primary': ['negative electrode'], 'secondary': ['current collector']}),\n",
       " FunctionParameter(-0x1dd1585e7e375554, Current function [A], children=['time'], domains={}),\n",
       " FunctionParameter(-0x774d5d7aab9b9954, Cation transference number, children=['maximum(Negative electrode porosity times concentration [mol.m-3] / Negative electrode porosity, 0.01)', 'broadcast(Ambient temperature [K])'], domains={'primary': ['negative electrode'], 'secondary': ['current collector']}),\n",
       " FunctionParameter(0x567057287d0365af, Negative electrode conductivity [S.m-1], children=['broadcast(Ambient temperature [K])'], domains={'primary': ['negative electrode'], 'secondary': ['current collector']}),\n",
       " Parameter(-0x777590895b0f4451, Nominal cell capacity [A.h], children=[], domains={}),\n",
       " Parameter(0x3ffe5c023bcb36bf, Initial concentration in electrolyte [mol.m-3], children=[], domains={}),\n",
       " FunctionParameter(-0x527f941a19a6b33f, Positive electrode porosity, children=['x_p'], domains={'primary': ['positive electrode'], 'secondary': ['current collector']}),\n",
       " FunctionParameter(-0x6f052fb109c5cd3e, Negative electrode OCP entropic change [V.K-1], children=['maximum(minimum(x-average(Negative electrode active material volume fraction * r-average(Negative particle concentration [mol.m-3])) / x-average(Negative electrode active material volume fraction) / Maximum concentration in negative electrode [mol.m-3], 0.9999999999), 1e-10)'], domains={'primary': ['current collector']}),\n",
       " FunctionParameter(0x54a184bb782658c3, Initial concentration in positive electrode [mol.m-3], children=['r_p', 'broadcast(x_p)'], domains={'primary': ['positive particle'], 'secondary': ['positive electrode'], 'tertiary': ['current collector']}),\n",
       " FunctionParameter(0x7b24705d8eb7cac4, Thermodynamic factor, children=['maximum(Porosity times concentration [mol.m-3](Negative electrode porosity times concentration [mol.m-3], Separator porosity times concentration [mol.m-3], Positive electrode porosity times concentration [mol.m-3]) / concatenation(Negative electrode porosity, Separator porosity, Positive electrode porosity), 0.01)', 'broadcast(Ambient temperature [K])'], domains={'primary': ['negative electrode', 'separator', 'positive electrode'], 'secondary': ['current collector']}),\n",
       " Parameter(-0x6434df6a9d6a083a, Upper voltage cut-off [V], children=[], domains={}),\n",
       " FunctionParameter(-0x4ba1995fd5407b39, Positive particle diffusivity [m2.s-1], children=['maximum(minimum(Positive particle concentration [mol.m-3] / Maximum concentration in positive electrode [mol.m-3], 0.9999999999), 1e-10)', 'broadcast(broadcast(Ambient temperature [K]))'], domains={'primary': ['positive particle'], 'secondary': ['positive electrode'], 'tertiary': ['current collector']}),\n",
       " Parameter(0x747a90d7f5f984d1, Positive electrode thickness [m], children=[], domains={}),\n",
       " FunctionParameter(-0x6d1ce9a05ffea29, Negative electrode exchange-current density [A.m-2], children=['maximum(Negative electrode porosity times concentration [mol.m-3] / Negative electrode porosity, 1e-08)', 'maximum(minimum(boundary value(Negative particle concentration [mol.m-3]), 0.99999999 * Maximum concentration in negative electrode [mol.m-3]), 1e-08 * Maximum concentration in negative electrode [mol.m-3])', 'Maximum concentration in negative electrode [mol.m-3]', 'broadcast(Ambient temperature [K])'], domains={'primary': ['negative electrode'], 'secondary': ['current collector']}),\n",
       " FunctionParameter(0x5273957cccb000d8, Thermodynamic factor, children=['maximum(Negative electrode porosity times concentration [mol.m-3] / Negative electrode porosity, 0.01)', 'broadcast(Ambient temperature [K])'], domains={'primary': ['negative electrode'], 'secondary': ['current collector']}),\n",
       " FunctionParameter(0x48c94c98d37e9dd9, Initial concentration in negative electrode [mol.m-3], children=['r_n', 'broadcast(x_n)'], domains={'primary': ['negative particle'], 'secondary': ['negative electrode'], 'tertiary': ['current collector']}),\n",
       " FunctionParameter(-0x5348846a5067eb27, Negative electrode OCP [V], children=['maximum(minimum(yz-average(x-average(r-average(Initial concentration in negative electrode [mol.m-3]))) / Maximum concentration in negative electrode [mol.m-3], 0.9999999999), 1e-10)'], domains={}),\n",
       " Parameter(-0x14a0352b29c85820, Negative electrode thickness [m], children=[], domains={}),\n",
       " Parameter(-0x657f987da3bc5016, Separator Bruggeman coefficient (electrolyte), children=[], domains={}),\n",
       " FunctionParameter(-0xb1829c36366715, Positive electrode OCP entropic change [V.K-1], children=['maximum(minimum(boundary value(Positive particle concentration [mol.m-3]) / Maximum concentration in positive electrode [mol.m-3], 0.9999999999), 1e-10)'], domains={'primary': ['positive electrode'], 'secondary': ['current collector']}),\n",
       " FunctionParameter(-0x488b856f41085707, Negative electrode OCP [V], children=['maximum(minimum(x-average(Negative electrode active material volume fraction * r-average(Negative particle concentration [mol.m-3])) / x-average(Negative electrode active material volume fraction) / Maximum concentration in negative electrode [mol.m-3], 0.9999999999), 1e-10)'], domains={'primary': ['current collector']}),\n",
       " Parameter(0x330e49afc11596fa, Electrode width [m], children=[], domains={}),\n",
       " FunctionParameter(0x3bae5ed525044ffd, Electrolyte conductivity [S.m-1], children=['maximum(Porosity times concentration [mol.m-3](Negative electrode porosity times concentration [mol.m-3], Separator porosity times concentration [mol.m-3], Positive electrode porosity times concentration [mol.m-3]) / concatenation(Negative electrode porosity, Separator porosity, Positive electrode porosity), 10.0)', 'broadcast(Ambient temperature [K])'], domains={'primary': ['negative electrode', 'separator', 'positive electrode'], 'secondary': ['current collector']})]"
      ]
     },
     "execution_count": 9,
     "metadata": {},
     "output_type": "execute_result"
    }
   ],
   "source": [
    "# Wo kann man aber den Rest ablesen? Wo kann ich mir die Gleichung ausgeben lassen?\n",
    "# Am ehesten ist das über den Befehl latexify von dem Modell an sich möglich, um sich die Gleichungen ausgeben zu lassen. Die Temperaturabhängigkeiten sind allerdings nicht explizit aufgelistet. Dazu hilft dann ein Bilck in die Parameter des Modells\n",
    "dfn_req_para=dfn.parameters\n",
    "dfn_req_para # die Abhängigkeiten können hier abgelesen werden. \n",
    "# Der erste Eintrag in den Children beinhält die abhägngigen Größen. Im \"Broadcast\" darauf sind weitere Abhängigkeiten aufgelistet (meist, wenn nicht immer die Temperatur)."
   ]
  },
  {
   "attachments": {},
   "cell_type": "markdown",
   "metadata": {},
   "source": [
    "# 2 Definition Parameterset\n",
    "Die zur Beschreibung des Batteriesystems nötigen Gleichungen werden durch das Modell definiert.  Aus anfängliches Parameter Set wird, wie zuvor erwähnt, das Set von Chen et al. (2020) gewählt. Diese können für die einzelnen entweder Konstanten für *Parameter* oder Funktionen und Look Up tables (intern interpoliert) für *FunctionParameter* definiert sein. Das hier gewählte Parameter Set beschreibt ein kommerzielles NMC811/Graphite-SiO<sub>x</sub> Materialsystem in dem zyklindrischen 21700 Format (Produktname: LGM50). Das Set hier hat mehr Parameter, als das Modell benötigt. Zusätzliche Angaben werden nicht von dem gewählten Modell beachtet, außer es werden entsprechende Untermodell eingesetzt. Dadurch ergeben sich deutliche Unterschiede in der Geometrie und bei der negativen Elektrode im Vergleich zum zu vergleichenden Laborzellensystem.\n",
    "\n",
    "Analog zu der Möglichkeit der Variablen Suche für das Modell können auf eine analoge Weise über `parameter_values.search(\"*Suchbegriff*\")` die einzelnen Parameter gesucht werden.\n",
    "Alle für das Modell benötigten Parameter müssen in dem Parameterset enthalten sein, da über die Programmieroberfläche ohne Weiteres keine weiteren Parameter in die PyBaMM Struktur aufgenommen werden können. Die Werte aller vorhandenen Parameter können aber angepasst werden.\n",
    "\n",
    "So kann beispielsweise das Chen2020 Modell für kein \"particle mechanic\" Untermodell berechnet werden, da Parameter wie die partielle Volumenänderung der Elektrodenmaterialien abhängig vom Lithiierungsgrad nicht enthalten ist.\n",
    "\n",
    "#### to do\n",
    "- Mehr Parameter anpassen"
   ]
  },
  {
   "cell_type": "code",
   "execution_count": 10,
   "metadata": {},
   "outputs": [
    {
     "name": "stdout",
     "output_type": "stream",
     "text": [
      "Results for 'positive': ['Initial concentration in positive electrode [mol.m-3]', 'Maximum concentration in positive electrode [mol.m-3]', 'Positive current collector conductivity [S.m-1]', 'Positive current collector density [kg.m-3]', 'Positive current collector specific heat capacity [J.kg-1.K-1]', 'Positive current collector thermal conductivity [W.m-1.K-1]', 'Positive current collector thickness [m]', 'Positive electrode Bruggeman coefficient (electrode)', 'Positive electrode Bruggeman coefficient (electrolyte)', 'Positive electrode OCP [V]', 'Positive electrode OCP entropic change [V.K-1]', 'Positive electrode active material volume fraction', 'Positive electrode charge transfer coefficient', 'Positive electrode conductivity [S.m-1]', 'Positive electrode density [kg.m-3]', 'Positive electrode double-layer capacity [F.m-2]', 'Positive electrode exchange-current density [A.m-2]', 'Positive electrode porosity', 'Positive electrode reaction-driven LAM factor [m3.mol-1]', 'Positive electrode specific heat capacity [J.kg-1.K-1]', 'Positive electrode thermal conductivity [W.m-1.K-1]', 'Positive electrode thickness [m]', 'Positive particle diffusivity [m2.s-1]', 'Positive particle radius [m]']\n",
      "Initial concentration in positive electrode [mol.m-3] -> 17038.0\n",
      "Maximum concentration in positive electrode [mol.m-3] -> 63104.0\n",
      "Positive current collector conductivity [S.m-1] -> 36914000.0\n",
      "Positive current collector density [kg.m-3] -> 2700.0\n",
      "Positive current collector specific heat capacity [J.kg-1.K-1] -> 897.0\n",
      "Positive current collector thermal conductivity [W.m-1.K-1] -> 237.0\n",
      "Positive current collector thickness [m] -> 1.6e-05\n",
      "Positive electrode Bruggeman coefficient (electrode) -> 0\n",
      "Positive electrode Bruggeman coefficient (electrolyte) -> 1.5\n",
      "Positive electrode OCP [V] -> <function nmc_LGM50_ocp_Chen2020 at 0x0000028AF7F98D30>\n",
      "Positive electrode OCP entropic change [V.K-1] -> 0.0\n",
      "Positive electrode active material volume fraction -> 0.665\n",
      "Positive electrode charge transfer coefficient -> 0.5\n",
      "Positive electrode conductivity [S.m-1] -> 0.18\n",
      "Positive electrode density [kg.m-3] -> 3262.0\n",
      "Positive electrode double-layer capacity [F.m-2] -> 0.2\n",
      "Positive electrode exchange-current density [A.m-2] -> <function nmc_LGM50_electrolyte_exchange_current_density_Chen2020 at 0x0000028AF7F98DC0>\n",
      "Positive electrode porosity -> 0.335\n",
      "Positive electrode reaction-driven LAM factor [m3.mol-1] -> 0.0\n",
      "Positive electrode specific heat capacity [J.kg-1.K-1] -> 700.0\n",
      "Positive electrode thermal conductivity [W.m-1.K-1] -> 2.1\n",
      "Positive electrode thickness [m] -> 7.56e-05\n",
      "Positive particle diffusivity [m2.s-1] -> 4e-15\n",
      "Positive particle radius [m] -> 5.22e-06\n",
      "[Parameter(0x41cc42b74f69a805, Number of cells connected in series to make a battery, children=[], domains={}), FunctionParameter(-0x49bfc773b61699fa, Thermodynamic factor, children=['maximum(Positive electrode porosity times concentration [mol.m-3] / Positive electrode porosity, 0.01)', 'broadcast(Ambient temperature [K])'], domains={'primary': ['positive electrode'], 'secondary': ['current collector']}), FunctionParameter(-0x31740dfdaf7531f8, Negative electrode OCP entropic change [V.K-1], children=['maximum(minimum(boundary value(Negative particle concentration [mol.m-3]) / Maximum concentration in negative electrode [mol.m-3], 0.9999999999), 1e-10)'], domains={'primary': ['negative electrode'], 'secondary': ['current collector']}), FunctionParameter(-0x4720965be59077f4, Negative particle radius [m], children=['x_n'], domains={'primary': ['negative electrode'], 'secondary': ['current collector']}), FunctionParameter(0x1d9086469cddd90d, Positive electrode OCP entropic change [V.K-1], children=['boundary value(Positive particle concentration [mol.m-3]) / Maximum concentration in positive electrode [mol.m-3]'], domains={'primary': ['positive electrode'], 'secondary': ['current collector']}), FunctionParameter(-0x3ef6f2a7c677c9f1, Positive particle radius [m], children=['x_p'], domains={'primary': ['positive electrode'], 'secondary': ['current collector']}), Parameter(-0x6e14936f56f38ee8, Separator thickness [m], children=[], domains={}), Parameter(0x778e750fc18abb1d, Initial temperature [K], children=[], domains={}), Parameter(0x7f7e045eafc94a1e, Faraday constant [C.mol-1], children=[], domains={}), Parameter(0x4d53915f042af121, Negative electrode Bruggeman coefficient (electrolyte), children=[], domains={}), FunctionParameter(-0x7bd9ba2c161525dc, Ambient temperature [K], children=['y', 'z', 'time'], domains={'primary': ['current collector']}), FunctionParameter(-0x4bbfd4f84035d2da, Negative electrode porosity, children=['x_n'], domains={'primary': ['negative electrode'], 'secondary': ['current collector']}), FunctionParameter(0x1b6eb9f423d00626, Electrolyte diffusivity [m2.s-1], children=['maximum(Porosity times concentration [mol.m-3](Negative electrode porosity times concentration [mol.m-3], Separator porosity times concentration [mol.m-3], Positive electrode porosity times concentration [mol.m-3]) / concatenation(Negative electrode porosity, Separator porosity, Positive electrode porosity), 10.0)', 'broadcast(Ambient temperature [K])'], domains={'primary': ['negative electrode', 'separator', 'positive electrode'], 'secondary': ['current collector']}), FunctionParameter(-0x225638bcf05a65da, Positive electrode conductivity [S.m-1], children=['broadcast(Ambient temperature [K])'], domains={'primary': ['positive electrode'], 'secondary': ['current collector']}), FunctionParameter(0x39421b689e3c352a, Positive electrode exchange-current density [A.m-2], children=['maximum(Positive electrode porosity times concentration [mol.m-3] / Positive electrode porosity, 1e-08)', 'maximum(minimum(boundary value(Positive particle concentration [mol.m-3]), 0.99999999 * Maximum concentration in positive electrode [mol.m-3]), 1e-08 * Maximum concentration in positive electrode [mol.m-3])', 'Maximum concentration in positive electrode [mol.m-3]', 'broadcast(Ambient temperature [K])'], domains={'primary': ['positive electrode'], 'secondary': ['current collector']}), Parameter(-0x6acd3932ad6173d0, Lower voltage cut-off [V], children=[], domains={}), FunctionParameter(-0x1cec4b76a77687cf, Positive electrode active material volume fraction, children=['x_p'], domains={'primary': ['positive electrode'], 'secondary': ['current collector']}), FunctionParameter(0x2ee82117a1fe6b33, Ambient temperature [K], children=['y', 'z', 'broadcast(time)'], domains={'primary': ['current collector']}), FunctionParameter(-0x19921b86c2d2dc7, Positive electrode OCP [V], children=['maximum(minimum(x-average(Positive electrode active material volume fraction * r-average(Positive particle concentration [mol.m-3])) / x-average(Positive electrode active material volume fraction) / Maximum concentration in positive electrode [mol.m-3], 0.9999999999), 1e-10)'], domains={'primary': ['current collector']}), Parameter(0x7bf26f24c9ae7e3c, Positive electrode Bruggeman coefficient (electrolyte), children=[], domains={}), FunctionParameter(0x320fb7009948443f, Negative electrode OCP [V], children=['maximum(minimum(boundary value(Negative particle concentration [mol.m-3]) / Maximum concentration in negative electrode [mol.m-3], 0.9999999999), 1e-10)'], domains={'primary': ['negative electrode'], 'secondary': ['current collector']}), FunctionParameter(0x10f195ff4b87b140, Separator porosity, children=['x_s'], domains={'primary': ['separator'], 'secondary': ['current collector']}), FunctionParameter(-0x3de984c85462bab4, Negative electrode OCP entropic change [V.K-1], children=['maximum(minimum(yz-average(x-average(r-average(Initial concentration in negative electrode [mol.m-3]))) / Maximum concentration in negative electrode [mol.m-3], 0.9999999999), 1e-10)'], domains={}), FunctionParameter(-0x45a08a9edb320cb1, Positive particle radius [m], children=['Negative electrode thickness [m] + Separator thickness [m] + 0.5 * Positive electrode thickness [m]'], domains={}), FunctionParameter(0x7ece8f2a14f2ae52, Positive electrode OCP entropic change [V.K-1], children=['maximum(minimum(yz-average(x-average(r-average(Initial concentration in positive electrode [mol.m-3]))) / Maximum concentration in positive electrode [mol.m-3], 0.9999999999), 1e-10)'], domains={}), Parameter(-0x80203fa8c63d106, Maximum concentration in negative electrode [mol.m-3], children=[], domains={}), Parameter(-0x2c0516a6b273c4a1, Negative electrode Bruggeman coefficient (electrode), children=[], domains={}), Parameter(-0x58ec5b3b41b7249a, Reference temperature [K], children=[], domains={}), FunctionParameter(0x420a877f2cdb8e68, Positive electrode OCP [V], children=['maximum(minimum(yz-average(x-average(r-average(Initial concentration in positive electrode [mol.m-3]))) / Maximum concentration in positive electrode [mol.m-3], 0.9999999999), 1e-10)'], domains={}), FunctionParameter(-0x1b8b561dfbd8aa97, Cation transference number, children=['maximum(Separator porosity times concentration [mol.m-3] / Separator porosity, 0.01)', 'broadcast(Ambient temperature [K])'], domains={'primary': ['separator'], 'secondary': ['current collector']}), Parameter(-0x36d72a44239a7395, Positive electrode Bruggeman coefficient (electrode), children=[], domains={}), FunctionParameter(-0x25fdb7767e61fb94, Cation transference number, children=['maximum(Positive electrode porosity times concentration [mol.m-3] / Positive electrode porosity, 0.01)', 'broadcast(Ambient temperature [K])'], domains={'primary': ['positive electrode'], 'secondary': ['current collector']}), FunctionParameter(-0x5a15d3a07d153b8b, Negative particle diffusivity [m2.s-1], children=['maximum(minimum(Negative particle concentration [mol.m-3] / Maximum concentration in negative electrode [mol.m-3], 0.9999999999), 1e-10)', 'broadcast(broadcast(Ambient temperature [K]))'], domains={'primary': ['negative particle'], 'secondary': ['negative electrode'], 'tertiary': ['current collector']}), FunctionParameter(0x227b20334686ec7c, Thermodynamic factor, children=['maximum(Separator porosity times concentration [mol.m-3] / Separator porosity, 0.01)', 'broadcast(Ambient temperature [K])'], domains={'primary': ['separator'], 'secondary': ['current collector']}), FunctionParameter(-0x7b37463f93887880, Positive electrode OCP [V], children=['maximum(minimum(boundary value(Positive particle concentration [mol.m-3]) / Maximum concentration in positive electrode [mol.m-3], 0.9999999999), 1e-10)'], domains={'primary': ['positive electrode'], 'secondary': ['current collector']}), FunctionParameter(-0x70d0b12707f94677, Cation transference number, children=['maximum(Porosity times concentration [mol.m-3](Negative electrode porosity times concentration [mol.m-3], Separator porosity times concentration [mol.m-3], Positive electrode porosity times concentration [mol.m-3]) / concatenation(Negative electrode porosity, Separator porosity, Positive electrode porosity), 0.01)', 'broadcast(Ambient temperature [K])'], domains={'primary': ['negative electrode', 'separator', 'positive electrode'], 'secondary': ['current collector']}), Parameter(-0x6df3770d49e47574, Number of electrodes connected in parallel to make a cell, children=[], domains={}), FunctionParameter(0x6d3a55c01e0fe98c, Positive electrode OCP entropic change [V.K-1], children=['maximum(minimum(x-average(Positive electrode active material volume fraction * r-average(Positive particle concentration [mol.m-3])) / x-average(Positive electrode active material volume fraction) / Maximum concentration in positive electrode [mol.m-3], 0.9999999999), 1e-10)'], domains={'primary': ['current collector']}), FunctionParameter(-0x55e5975f30c23d6c, Negative particle radius [m], children=['0.5 * Negative electrode thickness [m]'], domains={}), FunctionParameter(-0x1cd622a3ed522b64, Cation transference number, children=['Porosity times concentration [mol.m-3](Negative electrode porosity times concentration [mol.m-3], Separator porosity times concentration [mol.m-3], Positive electrode porosity times concentration [mol.m-3]) / concatenation(Negative electrode porosity, Separator porosity, Positive electrode porosity)', 'broadcast(Ambient temperature [K])'], domains={'primary': ['negative electrode', 'separator', 'positive electrode'], 'secondary': ['current collector']}), Parameter(0x569c7abc2193709d, Ideal gas constant [J.K-1.mol-1], children=[], domains={}), Parameter(0x4bf72b5449e7afa4, Electrode height [m], children=[], domains={}), FunctionParameter(-0x7e3265e157b5359, Negative electrode active material volume fraction, children=['x_n'], domains={'primary': ['negative electrode'], 'secondary': ['current collector']}), Parameter(0x60519dc588704aa8, Maximum concentration in positive electrode [mol.m-3], children=[], domains={}), FunctionParameter(-0x2f0569f8781e1659, Negative electrode OCP entropic change [V.K-1], children=['boundary value(Negative particle concentration [mol.m-3]) / Maximum concentration in negative electrode [mol.m-3]'], domains={'primary': ['negative electrode'], 'secondary': ['current collector']}), FunctionParameter(-0x1dd1585e7e375554, Current function [A], children=['time'], domains={}), FunctionParameter(-0x774d5d7aab9b9954, Cation transference number, children=['maximum(Negative electrode porosity times concentration [mol.m-3] / Negative electrode porosity, 0.01)', 'broadcast(Ambient temperature [K])'], domains={'primary': ['negative electrode'], 'secondary': ['current collector']}), FunctionParameter(0x567057287d0365af, Negative electrode conductivity [S.m-1], children=['broadcast(Ambient temperature [K])'], domains={'primary': ['negative electrode'], 'secondary': ['current collector']}), Parameter(-0x777590895b0f4451, Nominal cell capacity [A.h], children=[], domains={}), Parameter(0x3ffe5c023bcb36bf, Initial concentration in electrolyte [mol.m-3], children=[], domains={}), FunctionParameter(-0x527f941a19a6b33f, Positive electrode porosity, children=['x_p'], domains={'primary': ['positive electrode'], 'secondary': ['current collector']}), FunctionParameter(-0x6f052fb109c5cd3e, Negative electrode OCP entropic change [V.K-1], children=['maximum(minimum(x-average(Negative electrode active material volume fraction * r-average(Negative particle concentration [mol.m-3])) / x-average(Negative electrode active material volume fraction) / Maximum concentration in negative electrode [mol.m-3], 0.9999999999), 1e-10)'], domains={'primary': ['current collector']}), FunctionParameter(0x54a184bb782658c3, Initial concentration in positive electrode [mol.m-3], children=['r_p', 'broadcast(x_p)'], domains={'primary': ['positive particle'], 'secondary': ['positive electrode'], 'tertiary': ['current collector']}), FunctionParameter(0x7b24705d8eb7cac4, Thermodynamic factor, children=['maximum(Porosity times concentration [mol.m-3](Negative electrode porosity times concentration [mol.m-3], Separator porosity times concentration [mol.m-3], Positive electrode porosity times concentration [mol.m-3]) / concatenation(Negative electrode porosity, Separator porosity, Positive electrode porosity), 0.01)', 'broadcast(Ambient temperature [K])'], domains={'primary': ['negative electrode', 'separator', 'positive electrode'], 'secondary': ['current collector']}), Parameter(-0x6434df6a9d6a083a, Upper voltage cut-off [V], children=[], domains={}), FunctionParameter(-0x4ba1995fd5407b39, Positive particle diffusivity [m2.s-1], children=['maximum(minimum(Positive particle concentration [mol.m-3] / Maximum concentration in positive electrode [mol.m-3], 0.9999999999), 1e-10)', 'broadcast(broadcast(Ambient temperature [K]))'], domains={'primary': ['positive particle'], 'secondary': ['positive electrode'], 'tertiary': ['current collector']}), Parameter(0x747a90d7f5f984d1, Positive electrode thickness [m], children=[], domains={}), FunctionParameter(-0x6d1ce9a05ffea29, Negative electrode exchange-current density [A.m-2], children=['maximum(Negative electrode porosity times concentration [mol.m-3] / Negative electrode porosity, 1e-08)', 'maximum(minimum(boundary value(Negative particle concentration [mol.m-3]), 0.99999999 * Maximum concentration in negative electrode [mol.m-3]), 1e-08 * Maximum concentration in negative electrode [mol.m-3])', 'Maximum concentration in negative electrode [mol.m-3]', 'broadcast(Ambient temperature [K])'], domains={'primary': ['negative electrode'], 'secondary': ['current collector']}), FunctionParameter(0x5273957cccb000d8, Thermodynamic factor, children=['maximum(Negative electrode porosity times concentration [mol.m-3] / Negative electrode porosity, 0.01)', 'broadcast(Ambient temperature [K])'], domains={'primary': ['negative electrode'], 'secondary': ['current collector']}), FunctionParameter(0x48c94c98d37e9dd9, Initial concentration in negative electrode [mol.m-3], children=['r_n', 'broadcast(x_n)'], domains={'primary': ['negative particle'], 'secondary': ['negative electrode'], 'tertiary': ['current collector']}), FunctionParameter(-0x5348846a5067eb27, Negative electrode OCP [V], children=['maximum(minimum(yz-average(x-average(r-average(Initial concentration in negative electrode [mol.m-3]))) / Maximum concentration in negative electrode [mol.m-3], 0.9999999999), 1e-10)'], domains={}), Parameter(-0x14a0352b29c85820, Negative electrode thickness [m], children=[], domains={}), Parameter(-0x657f987da3bc5016, Separator Bruggeman coefficient (electrolyte), children=[], domains={}), FunctionParameter(-0xb1829c36366715, Positive electrode OCP entropic change [V.K-1], children=['maximum(minimum(boundary value(Positive particle concentration [mol.m-3]) / Maximum concentration in positive electrode [mol.m-3], 0.9999999999), 1e-10)'], domains={'primary': ['positive electrode'], 'secondary': ['current collector']}), FunctionParameter(-0x488b856f41085707, Negative electrode OCP [V], children=['maximum(minimum(x-average(Negative electrode active material volume fraction * r-average(Negative particle concentration [mol.m-3])) / x-average(Negative electrode active material volume fraction) / Maximum concentration in negative electrode [mol.m-3], 0.9999999999), 1e-10)'], domains={'primary': ['current collector']}), Parameter(0x330e49afc11596fa, Electrode width [m], children=[], domains={}), FunctionParameter(0x3bae5ed525044ffd, Electrolyte conductivity [S.m-1], children=['maximum(Porosity times concentration [mol.m-3](Negative electrode porosity times concentration [mol.m-3], Separator porosity times concentration [mol.m-3], Positive electrode porosity times concentration [mol.m-3]) / concatenation(Negative electrode porosity, Separator porosity, Positive electrode porosity), 10.0)', 'broadcast(Ambient temperature [K])'], domains={'primary': ['negative electrode', 'separator', 'positive electrode'], 'secondary': ['current collector']})]\n"
     ]
    }
   ],
   "source": [
    "parameter_values_comp = pybamm.ParameterValues(\"Chen2020\") #'Chen2020_AH_VM_modified'\n",
    "\n",
    "parameter_values_comp.search(\"positive\") # Suche\n",
    "print(dfn_req_para)\n",
    "\n",
    "# parameter_values # Vollständige Parameterliste"
   ]
  },
  {
   "attachments": {},
   "cell_type": "markdown",
   "metadata": {},
   "source": [
    "## 2.1 Veränderung von FunctionParametern - Implementieren weiterer ParameterSets\n",
    "Das Ändern von *FunctionParametern* kann im Gegensatz zu den Zahlenwerten der *Parameter* nicht einfach in einer Codezeile geändert werden. Dazu muss die hinterlegte Funktion verändert oder ersetzt werden. Dies kann mit geringem Risiko am besten durch das Verändern eines kopierten Parametersets erfüllt werden.\n",
    "Im folgenden Beispiel wird das vorher geladene Parameterset \"Chen2020\" kopiert und die Definition der OCV Kurve der positiven Elektrode (NMC) verändert, die in diesem ParameterSet als *FunctionParameter* mit der Variablen der Stöchiometrie (sto) als Function hinterlegt ist. \n",
    "\n",
    "Das neue Parameterset \"Chen2020_AH_VM_modified\" wird in dem gleichen Ordner wie Chen2020 abgelegt. Allerdings werden die Parametersets mit der Innstallation des `PyBaMM` Packages vorher mithilfe von `entry points` definiert. Diese `entry points` sind unten in der \"...\\PyBaMM_Fork\\src\\pybamm\\input\\parameters\\lithium_ion\\__init__.py\"\" Datei in der obesten Ebene der PyBaMM-Fork hinterlegt. Um das ParameterSet nun so zu hinterlegen, dass dieses wie die anderen gefunden werden kann, ohne durch eine Neuinstallation von `PyBaMM` sämtliche Änderungen am Quellcode wieder rückgängig zu machen, müssen folgende Schritte ausgeführt werden.\n",
    "\n",
    "- Implementieren des modifizierten Parametersets analog zu den anderen Parametersets in \"__init__\":  \"Chen2020_AH_VM_modified'\"\n",
    "- Im CommandWindow (cmd.exe) als Admindestrator in das PyBaMM-Fork Verzeichnis gehen (Bsp.: cd C:/Users/ahe16/Documents/GitHub/PyBaMM_Fork) gehen\n",
    "- Noch immer im cmd window \"pip install -e .\" ausführen. Daraufhin, wird PyBaMM neuinstalliert ohne, dass die setup.py Datei verändert wird.\n",
    "    - Dadurch werden die DeveloperTools entwickelt, die eine Bearbeitung des Pakets an sich ermöglichen. Alternativ kann PyBaMM im cmd Fenster über \"pip install pybamm -e C:/Users/ahe16/Documents/GitHub/PyBaMM_Fork\" oder jedem anderen Ort installiert werden\n",
    "        - In dem Fall sollten andere Pybamm distributionen bspw. in AppData entfernt werden\n",
    "- Erneutes Ausführen des Skripts erlaubt das laden des modifizierten Parametersets und damit von anderen *FunctionParametern*\n",
    "\n",
    "*zuletzt geändert am: 16.01.2023 AH*\n"
   ]
  },
  {
   "cell_type": "code",
   "execution_count": 11,
   "metadata": {},
   "outputs": [
    {
     "name": "stdout",
     "output_type": "stream",
     "text": [
      "Results for 'OCP': ['Negative electrode OCP [V]', 'Negative electrode OCP entropic change [V.K-1]', 'Positive electrode OCP [V]', 'Positive electrode OCP entropic change [V.K-1]']\n",
      "Negative electrode OCP [V] -> <function graphite_LGM50_ocp_Chen2020 at 0x0000028AF7F981F0>\n",
      "Negative electrode OCP entropic change [V.K-1] -> 0.0\n",
      "Positive electrode OCP [V] -> <function nmc_LGM50_ocp_Chen2020 at 0x0000028AF8032EE0>\n",
      "Positive electrode OCP entropic change [V.K-1] -> 0.0\n"
     ]
    }
   ],
   "source": [
    "parameter_values = pybamm.ParameterValues(\"Chen2020_AH_VM_modified\") #Chen2020_AH_VM_modified\n",
    "\n",
    "parameter_values.search(\"OCP\")"
   ]
  },
  {
   "attachments": {
    "NMC811_vs_Chen2020.png": {
     "image/png": "[encoded data removed]"
    }
   },
   "cell_type": "markdown",
   "metadata": {},
   "source": [
    "### 2.1.1 Anpassung der positiven OCV Kurve\n",
    "Die Stöchiometrie abhängigen OCV Kurven müssen für die positive und negative Elektrode festgelegt werden, da diese im Modell zur Berechnung der Spannung und Kinetik wichtig sind. Die positive Elektrode wird während der Entladung vollständig liithiert. Die negative Elektrode wird nicht vollständig lithiiert. Eine Lithium-Ionen Batterievollzelle ist in der Regel durch die theoretische Kapazität der der positiven Elektrode limitiert.\n",
    "\n",
    "$$x = \\frac{c_s}{c_s^{max}}$$\n",
    "\n",
    "<span style=\"color:grey\">Quelle: *Chen.2020*</span>.\n",
    "\n",
    "x ist also dem Lithiierungsgrad der Elektrode gleich zu setzen. Für das Kathodenmaterial NMC811 bedeutet dies dann $Li_xNi_{0.8}Mn_{0.1}Co_{0.1}O_2$\n",
    "\n",
    "Für eine Vollzelle können im 3-Elektrodensetup (FC) die Halbzellspannungen gegen Lithium über den Spannungsbereich der Vollzelle aufgenommen werden. Um den praktisch genutzten Ladezustand mit dem Lihtiierungsgrad der Elektroden in Zusammenhang zu bringen, sind außerdem GITT oder Pseudo-OCV Messungen an Li-Halbzellen (HC) notwenig, um über Lithiierungsbereich der Vollzelle hinaus zu testen und so den Zustand vollständige Lithiierung und Delithiierung zu erreichen.\n",
    "\n",
    "Mit der Annahme, dass die Elektroden nach der ersten CCCV Ladung nach der Formierung im vollgeladenen Zustand vollständig lithiiert sind, also im Kontext von PyBaMM eine Stöchiometrie von 1 hat, können mit der folgenden Entladung und Ladung die stöchiometrischen Grenzen des Materials festgelegt werden. \n",
    "\n",
    "#### Update 15.12.2023\n",
    "Das stimmt in der Form nicht. Eine vollständige Lithiierung als auch Delithiierung lassen sich nicht erreichen (VM). Über die teoretische Kapazität des Materials der Herstellerangabe lässt sich ein Stöchiometriehub bestimmen. Es ist allerdings immernoch nötig den Punkt kompletter Delithiierung oder Lithiierung zu kennen, um einen Bereich zu bestimmen. **-> Wie hat Valerie das gemacht?**\n",
    "\n",
    "Als vergleichbares Parameterset für NMC811/Graphit wird Chen et al. <sup>1</sup> herangezogen.\n",
    "\n",
    "![NMC811_vs_Chen2020.png](attachment:NMC811_vs_Chen2020.png)\n",
    "\n",
    "Man erkennt deutliche Unterschiede in den Features der Kurven und vor allem einen deutlich anderen Stöchiometriebereich. \n",
    "\n",
    "Ein weiteres wichtiges Detail ist sind die Punkte bei x=0,1 als die physikalisch maximal und minimal erreichbaren Punkte, die in das Fitting einbezogen werden sollten, um Abdriften der Kurve außerhalb zwischen den Grenzen und den Messwerten zu begrenzen. Sonst sind beispielsweise negative Spannungen bei der negativen Elektrode möglich.\n",
    "\n",
    "Die Parametersets lassen sich unter \"pybamm\\input\\parameters\\lithium_ion\\data\\nmc_LGM50_ocp_Chen2020.csv\" bzw. \"pybamm\\input\\parameters\\lithium_ion\\data\\graphite_LGM50_ocp_Chen2020.csv\" finden.\n",
    "\n",
    "### 2.1.2 Wie wird der anfängliche Ladezustand bestimmt?\n",
    "Die Abweichung der stöchiometrischen Bereiche der jeweilgen OCV Kurven deuten auf die Notwendigkeit der weiteren Anpassung mit dem Material und der Stöchiometrie zusammenhängenden Größen hin.\n",
    "\n",
    "So muss die die maximale Konzentration für das Aktivmaterial bestimmt werden. Diese berechnet sich nach Chen.2020 für die Elektroden (k=p,n) zu:\n",
    "\n",
    "$$ c_{k,s}^{max} = \\frac{M_{k,coat}z_k}{m_{k,a}L_k\\varepsilon_{k,act}} $$\n",
    "<span style=\"color:grey\">Quelle: *Chen.2020* - Gl. (5)</span>.\n",
    "\n",
    "Der Ladezustand kann als Argument *inital_soc* in der Klasse `pybamm.simulation` übergeben werden. Darauf folgt für Lithium-Ionen Batterien die Berechnung der Lithiumionenkonzentration $c_{k,s}$ in den Partikeln des Aktivmaterials gegenüber der maximalen Konzentration im Aktivmaterial der Kathode und Anode (s. Gl. (1)). Dies wird in PyBaMM auch als `initial_stoichiometries` beschrieben. Ohne Definition des *inital_soc*, werden die anfänglichen Konzentrationen (`initial concentration`) aus dem Parameterset genutzt nach $x=\\frac{c_{k,s}}{c_{k,s}^{max}}$ bestimmt. \n",
    "\n",
    "Derzeit (24.01.2023) funktioniert der Prozess zum Setzen des anfänglichen Ladezustands nicht. Der Fehler deutet daraufhin, dass das die Bestimmung der maximalen und minimalen Stöchiometrien für die Zelle nicht funktionieren.\n",
    "\n",
    "*  pybamm.Simulation(kwargs).solve(initial_soc=soc_ini) - soc_ini = [0,1]\n",
    "    * pybamm.simulation.set_initial_soc\n",
    "        * pybamm.parameter_values.set_initial_stoichiometries\n",
    "            * pybamm.lithium_ion.get_initial_stoichiometries -> esoh_solver.get_initial_stoichiometries\n",
    "                * esoh_solver.get_min_max_stoichiometries\n",
    "                    * <span style=\"color:red\">**Was ist Q???**</span>.\n",
    "\n",
    "Der Prozess der Bestimmung der maximalen und minimalen Grenzen beruht auf der..\n",
    "\n",
    "\n",
    "---\n",
    "<sup>1</sup> Chen, Chang-Hui; Brosa Planella, Ferran; O’Regan, Kieran; Gastol, Dominika; Widanage, W. Dhammika; Kendrick, Emma (2020): Development of Experimental Techniques for Parameterization of Multi-scale Lithium-ion Battery Models. In: J. Electrochem. Soc. 167 (8), S. 80534. DOI: 10.1149/1945-7111/ab9050.\n"
   ]
  },
  {
   "attachments": {},
   "cell_type": "markdown",
   "metadata": {},
   "source": [
    "### 2.1.2 Wie kann die von der Stöchiometrie abhängige OCV Kurve bestimmt werden?\n",
    "Es wird die maximale und minimale Stöchiometrie für Aktivmaterialien aus den Halbzellversuchen bestimmt. \n",
    "Innerhalb der Vollzelle werden aufgrund des Stabilitätsfensters des Elektrolyten nur ein gewisser Bereich der möglichen Interkalationsbereich der Aktivmaterialien genutzt. Diese werden über Colomb Counting von dem komplett beladenen oder entladenen Aktivmaterial in einer Halbzelle gegen Lithium bestimmt. <span style=\"color:grey\">Korrektur  durch Valerie</span>.\n",
    "Die tatsächlich genutzen Bereich in der Vollzelle können folgend druch Fitting der der Halbzellkurven aus dem 3 Elektroden Setup der Vollzelle gegen die Halbzelle verglichen werden, um so den effektiv genutzten Bereich zu bestimmen. \n",
    "Nach Bestimmung der effektiven Interakalationbereiche, die sich automatisch durch die maximale Konzentration und der in der Zelle befindlichen Lithium Ionen bestimmt werden, kann bei Nutzung eines einzelnen GITT Messpunkt über der Stöchiometrie die anfänglichen Lithium-Konzentration in der Zelle bestimmt werden. "
   ]
  },
  {
   "attachments": {},
   "cell_type": "markdown",
   "metadata": {},
   "source": [
    "## 2.2 Anpassung Parameterwerte (Konstanten)"
   ]
  },
  {
   "attachments": {},
   "cell_type": "markdown",
   "metadata": {},
   "source": [
    "### 2.2.1 Anpassung materialspezifische Daten\n",
    "Bei dem Vergleich mit den Daten des Ursprungsdatensets kam bei dem Vergleich der OCV Kurven für das NMC aus dem Datenset des Chen2020 Papers und unserem NMC von CC eine Differenz des Lithiierungsbereichs auf. \n",
    "\n",
    "\"Gleichung für x\"\n",
    "\n",
    "Dei maximale Konzentration von Lithium-Ionen im Aktivmaterial ergibt nach Chen.2020 sich zu:\n",
    "\n",
    "\"c_max Gleichung\"\n",
    "\n",
    "Dies ergibt für die Spezifikationen unsern Materials (s. Parametertabelle):"
   ]
  },
  {
   "cell_type": "code",
   "execution_count": 12,
   "metadata": {},
   "outputs": [],
   "source": [
    "# parameter_values[\"Maximum concentration in positive electrode [mol.m-3]\"] = 46846.345 #own parameterset\n",
    "parameter_values.update({\"Maximum concentration in positive electrode [mol.m-3]\": 46846.345,\n",
    "                         \"Maximum concentration in negative electrode [mol.m-3]\": 23406.320}, check_already_exists=False)\n",
    "# parameter_values.update({\"Maximum concentration in negative electrode [mol.m-3]\": 23406.320}, check_already_exists=False)\n",
    "# parameter_values[\"Maximum concentration in negative electrode [mol.m-3]\"] = 23406.320 #own parameterset\n",
    "# parameter_values[\"Negative electrode diffusivity [m2.s-1]\"] = 1e-15\n",
    "# parameter_values[\"Positive electrode diffusivity [m2.s-1]\"] = 1.4e-15"
   ]
  },
  {
   "attachments": {},
   "cell_type": "markdown",
   "metadata": {},
   "source": [
    "### 2.2.2 Anpassung geometrische Daten\n",
    "Umrechnen von Durchmesser der Laborzellenelektroden von 18 mm in eine quadratische Oberfläche, da die Elektrodenfläche in PyBaMM als viereckige Fläche berechnet wird."
   ]
  },
  {
   "cell_type": "code",
   "execution_count": 13,
   "metadata": {},
   "outputs": [
    {
     "name": "stdout",
     "output_type": "stream",
     "text": [
      "0.015952084658149644\n"
     ]
    }
   ],
   "source": [
    "Diameter=18e-3\n",
    "cell_geoquad= (Diameter**2/4*np.pi)**(1/2)\n",
    "print(cell_geoquad)\n",
    "# print(parameter_values[\"Electrode width [m]\"])"
   ]
  },
  {
   "attachments": {},
   "cell_type": "markdown",
   "metadata": {},
   "source": [
    "Zur Modellierung der Laborzelle müssen weitere Parameter angepasst werden."
   ]
  },
  {
   "cell_type": "code",
   "execution_count": 14,
   "metadata": {},
   "outputs": [],
   "source": [
    "## Geometrische Parameter der Aktivmterialien zur Berechnung der Kapazität\n",
    "parameter_values.update({\"Positive electrode porosity\": 0.38,\n",
    "                         \"Negative electrode porosity\": 0.25,\n",
    "                         \"Positive electrode thickness [m]\": 4.24e-5,\n",
    "                         \"Negative electrode thickness [m]\": 5.0e-5,\n",
    "                         \"Electrode width [m]\": cell_geoquad,\n",
    "                         \"Electrode height [m]\": cell_geoquad,\n",
    "                         \"Positive electrode active material volume fraction\": 1-parameter_values[\"Positive electrode porosity\"],\n",
    "                         \"Negative electrode active material volume fraction\": 1-parameter_values[\"Negative electrode porosity\"],\n",
    "                         \"Separator thickness [m]\": 2.6e-4,\n",
    "                         \"Separator porosity\": 0.91\n",
    "                         }, check_already_exists=False)\n",
    "\n",
    "\n",
    "# parameter_values[\"Positive electrode thickness [m]\"] = 4.24e-5 #measured thickness - collector foil thickness of data sheet (20 µm)\n",
    "# parameter_values[\"Negative electrode thickness [m]\"] = 5.0e-5  #measured thickness - collector foil thickness of data sheet (14 µm)\n",
    "# parameter_values[\"Electrode width [m]\"] = cell_geoquad\n",
    "# parameter_values[\"Electrode height [m]\"] = cell_geoquad\n",
    "# parameter_values[\"Positive electrode active material volume fraction\"] = 1-parameter_values[\"Positive electrode porosity\"] # fraction of filled proes to active material - not binder or composition of active material\n",
    "# parameter_values[\"Negative electrode active material volume fraction\"] = 1-parameter_values[\"Negative electrode porosity\"] # fraction of filled proes to active material - not binder or composition of active material\n",
    "\n",
    "## Geometrische Separatorwerte\n",
    "# parameter_values[\"Separator thickness [m]\"] = 2.6e-4\n",
    "# parameter_values[\"Separator porosity\"] = 0.91\n",
    "# parameter_values[\"Typical electrolyte concentration [mol.m-3]\"] = \n",
    "\n",
    "## Mechanische Expansion\n",
    "# pybamm.parameters_cli.add_parameter()\n",
    "\n"
   ]
  },
  {
   "attachments": {},
   "cell_type": "markdown",
   "metadata": {},
   "source": [
    "### 2.2.3 Anpassung elektrische Daten\n",
    "Festlegen der elektrischen Grenzen. Direkt aus experimenteller Bestimmung.\n",
    "Für 100 % SOC:\n",
    "\n",
    "$$ c_{p,s}^{ini} = c_{p,s}^{max} * x_{p,0}$$\n",
    "\n",
    "$$ c_{n,s}^{ini} = c_{n,s}^{max} * x_{n,100}$$\n",
    "\n"
   ]
  },
  {
   "cell_type": "code",
   "execution_count": 15,
   "metadata": {},
   "outputs": [
    {
     "name": "stdout",
     "output_type": "stream",
     "text": [
      "Results for 'Positive electrode diffusivity [m2.s-1]': ['Positive electrode diffusivity [m2.s-1]']\n",
      "Positive electrode diffusivity [m2.s-1] -> 4e-15\n"
     ]
    }
   ],
   "source": [
    "## Elektrische Parameter\n",
    "parameter_values.update({\"Upper voltage cut-off [V]\": 4.2,\n",
    "                         \"Lower voltage cut-off [V]\": 3.0,\n",
    "                         \"Nominal cell capacity [A.h]\": 5.1e-3}, check_already_exists=False\n",
    "                         \n",
    "                         \n",
    "                        )\n",
    "# parameter_values[\"Upper voltage cut-off [V]\"] = 4.2\n",
    "# parameter_values[\"Lower voltage cut-off [V]\"] = 3.0\n",
    "# parameter_values[\"Nominal cell capacity [A.h]\"] = 5.1e-3 # only for conversion between current and C-rate\n",
    "\n",
    "## Stöchiometerische Grenzen # for negative electrode already done in Chen2020\n",
    "\n",
    "# FC ranges from expiermental mapping from HC data\n",
    "#NMC811: x-range: 0.128 to 0.741\n",
    "#aGr: #x-range: 0.0320 to 0.885 (extended to get right capacity)\n",
    "parameter_values.update({\"Initial concentration in positive electrode [mol.m-3]\": 0.3*parameter_values[\"Maximum concentration in positive electrode [mol.m-3]\"],\n",
    "                         \"Initial concentration in negative electrode [mol.m-3]\": 0.85*parameter_values[\"Maximum concentration in negative electrode [mol.m-3]\"]}, check_already_exists=False)\n",
    "\n",
    "# pybamm.lithium_ion.electrode_soh.get_min_max_stoichiometries(parameter_values)\n",
    "# parameter_values.values()\n",
    "parameter_values.search(\"Positive electrode diffusivity [m2.s-1]\")"
   ]
  },
  {
   "attachments": {},
   "cell_type": "markdown",
   "metadata": {},
   "source": [
    "### Test for contained Lithium ions\n",
    "Hier wird die Menge an Lithium-Ionen im System und in den einzelnen Elektroden berechnet. Für den gegebenen Parametersatz werden die maximale und minimale Stöchiometrie in den Aktivmaterialien berechnet.\n",
    "\n",
    "Besonderes zu beachten. Die Bestimmung der Diffusionskoeffizienten erfolgt in einem bestimmten Stöchiometriebereich in Abhängigkeit des durchgeführten Tests. Der Stöchiometriebereich sollte(muss?) größer sein als der in dem Betrieb der Zielzelle gebraucht wird, da es sonst zur Extrapolation kommt, was bei durch den Polynomfit zu einer Instabilitäten bei der Lösung führt."
   ]
  },
  {
   "cell_type": "code",
   "execution_count": 16,
   "metadata": {},
   "outputs": [
    {
     "name": "stdout",
     "output_type": "stream",
     "text": [
      "Initial lihthium ions [mol] in positive and negative electrode as well as overall: \n",
      " 0.002702577494988476 \n",
      " 0.005088350493553071 \n",
      " 0.007790927988541547 \n",
      "\n",
      "min sto neg elec, max sto neg elect, min sto pos elec, max sto pos elec \n",
      " [0.013851243398879696, 0.9999702939532505, 0.200343315528313, 0.855628788951808]\n"
     ]
    }
   ],
   "source": [
    "# pybamm.lithium_ion.electrode_soh.get_min_max_stoichiometries(parameter_values = pybamm.ParameterValues(\"Chen2020\"))\n",
    "# pybamm.lithium_ion.electrode_soh.get_min_max_stoichiometries(parameter_values = pybamm.ParameterValues(\"Chen2020_AH_VM_modified\"))\n",
    "param =pybamm.LithiumIonParameters()\n",
    "# parameter_values.search(\"vol\") # Suche\n",
    "Faraday = parameter_values.evaluate(param.F)\n",
    "n_Li = parameter_values.evaluate(param.n_Li_e_init)\n",
    "# eps_ini=parameter_values.evaluate(param.epsilon_init) # funktioniert nicht für function parameter..wenn dann average ziehen\n",
    "\n",
    "Lx = parameter_values.evaluate(param.L_x)\n",
    "\n",
    "Acc = parameter_values.evaluate(param.A_cc)\n",
    "eps_n=parameter_values[\"Negative electrode active material volume fraction\"]\n",
    "c_max_n=parameter_values[\"Maximum concentration in negative electrode [mol.m-3]\"]\n",
    "Q_AM_n=Acc*parameter_values.evaluate(param.n.L)*eps_n*Faraday/3600*c_max_n\n",
    "\n",
    "n_p=parameter_values.evaluate(param.p.n_Li_init)\n",
    "n_n=parameter_values.evaluate(param.n.n_Li_init)\n",
    "Q_n = parameter_values.evaluate(param.n.Q_Li_init)\n",
    "Q_p = parameter_values.evaluate(param.p.Q_Li_init)\n",
    "Q_Li = parameter_values.evaluate(param.Q_Li_particles_init)\n",
    "Q_p_init= parameter_values.evaluate(param.p.Q_init)\n",
    "Q_n_init= parameter_values.evaluate(param.n.Q_init)\n",
    "print(\"Initial lihthium ions [mol] in positive and negative electrode as well as overall: \\n\",Q_p,\"\\n\",Q_n,\"\\n\",Q_Li,\"\\n\")\n",
    "test=Q_n+Q_p\n",
    "# print((Q_Li - 1e-6 * Q_p) / Q_n)\n",
    "# print((Q_Li - 1 * Q_n) / Q_p)\n",
    "# print((Q_Li - 1 * Q_p) / Q_n)\n",
    "# print((Q_Li - 1e-6 * Q_n) / Q_p)\n",
    "check=pybamm.lithium_ion.get_min_max_stoichiometries(parameter_values)\n",
    "print(\"min sto neg elec, max sto neg elect, min sto pos elec, max sto pos elec \\n\",check)\n",
    "# parameter_values.evaluate(param.n.Q_init)"
   ]
  },
  {
   "attachments": {},
   "cell_type": "markdown",
   "metadata": {},
   "source": [
    "## 3 Experimentdefinition - C rate test\n",
    "Definition von Experiment. Bringen auf richten Ausgangszustand zuvor"
   ]
  },
  {
   "cell_type": "code",
   "execution_count": 17,
   "metadata": {},
   "outputs": [],
   "source": [
    "C_Rate_test = pybamm.Experiment(\n",
    "    [\n",
    "        (\"Discharge at 1 C until 3.0 V\",\n",
    "        \"Rest for 5 minutes\",\n",
    "        \"Charge at 1 C until 4.2 V\",\n",
    "        \"Hold at 4.2 V until C/10\",\n",
    "        \"Rest for 5 minutes\"),\n",
    "    ] * 1\n",
    ") #for 1 hours or\n",
    "\n",
    "C10_comparison_PAT_LPC = pybamm.Experiment(\n",
    "    [\n",
    "        (\n",
    "        \"Charge at 0.1 C until 4.2 V\",\n",
    "        )\n",
    "    ] * 1\n",
    ") \n",
    "\n",
    "C1_Pulse_Test = pybamm.Experiment(\n",
    "    [\n",
    "        (\n",
    "        \"Rest for 5 minutes\",\n",
    "        \"Charge at 0.5 C for 4 minutes\",\n",
    "        \"Rest for 30 minutes\",\n",
    "        \"Discharge at 0.5 C for 4 minutes\",\n",
    "        \"Rest for 5 minutes\",\n",
    "        )\n",
    "    ] * 1\n",
    ") \n",
    "\n",
    "Capped_Rate_test = pybamm.Experiment(\n",
    "    [\n",
    "        (\"Discharge at 1 C until 3.2 V\",\n",
    "        \"Rest for 5 minutes\",\n",
    "        \"Charge at 1 C until 4.2 V\",\n",
    "        \"Rest for 5 minutes\"),\n",
    "    ] * 1\n",
    ")"
   ]
  },
  {
   "attachments": {},
   "cell_type": "markdown",
   "metadata": {},
   "source": [
    "### 3.1 Simulation des Modells"
   ]
  },
  {
   "cell_type": "code",
   "execution_count": 18,
   "metadata": {},
   "outputs": [
    {
     "name": "stderr",
     "output_type": "stream",
     "text": [
      "At t = 452.784 and h = 1.02256e-14, the corrector convergence failed repeatedly or with |h| = hmin.\n"
     ]
    }
   ],
   "source": [
    "#load solvers\n",
    "fast_solver = pybamm.CasadiSolver(atol=1e-3, rtol=1e-3, mode=\"fast\")\n",
    "sols=[]\n",
    "for model in models:\n",
    "    sim = pybamm.Simulation(model, parameter_values=parameter_values, experiment=C_Rate_test) #, experiment=C_Rate_test\n",
    "    # np.linspace(0, 2520, 100)\n",
    "    sol=sim.solve(initial_soc=0.5) #initial_soc=0.5 ; calc_esoh=False\n",
    "    sols.append(sol)\n",
    "# t_eval = np.arange(0, 12001, 1)\n",
    "# sol = sim.solve() #[0, 7200], t_eval=t_eval, initial_soc=1\n"
   ]
  },
  {
   "cell_type": "code",
   "execution_count": 19,
   "metadata": {},
   "outputs": [
    {
     "name": "stdout",
     "output_type": "stream",
     "text": [
      "Results for 'Discharge': ['Discharge capacity [A.h]', 'Discharge energy [W.h]']\n"
     ]
    },
    {
     "data": {
      "application/vnd.jupyter.widget-view+json": {
       "model_id": "826859d52c4f4485b6c789fca68037c1",
       "version_major": 2,
       "version_minor": 0
      },
      "text/plain": [
       "interactive(children=(FloatSlider(value=0.0, description='t', max=8468.102498049055, step=84.68102498049055), …"
      ]
     },
     "metadata": {},
     "output_type": "display_data"
    },
    {
     "data": {
      "text/plain": [
       "<pybamm.plotting.quick_plot.QuickPlot at 0x28afc6c69a0>"
      ]
     },
     "execution_count": 19,
     "metadata": {},
     "output_type": "execute_result"
    }
   ],
   "source": [
    "dfn.variables.search(\"Discharge\")\n",
    "output_variables = [\"Positive electrode potential [V]\",\"Positive electrode open-circuit potential [V]\", \"Negative electrode potential [V]\",\"Negative electrode open-circuit potential [V]\" , \"Terminal voltage [V]\",\"Positive electrode stoichiometry\",\"Negative electrode stoichiometry\",\"Battery open-circuit voltage [V]\",\"Volume-averaged cell temperature [K]\",\"Electrolyte concentration [mol.m-3]\",\"Negative electrode surface potential difference [V]\",\"Negative electrode reaction overpotential [V]\",\"Exchange current density [A.m-2]\",\"Discharge capacity [A.h]\"] #,\"Cell thickness change [m]\"\n",
    "pybamm.dynamic_plot(sols, output_variables=output_variables, time_unit=\"seconds\")"
   ]
  },
  {
   "cell_type": "code",
   "execution_count": 20,
   "metadata": {},
   "outputs": [
    {
     "name": "stdout",
     "output_type": "stream",
     "text": [
      "[ 0.00000000e+00  8.50000000e-05  1.70000000e-04  2.55000000e-04\n",
      "  3.40000000e-04  4.25000000e-04  5.10000000e-04  5.95000000e-04\n",
      "  6.80000000e-04  7.65000000e-04  8.50000000e-04  9.35000000e-04\n",
      "  1.02000000e-03  1.10500000e-03  1.19000000e-03  1.27500000e-03\n",
      "  1.36000000e-03  1.44500000e-03  1.53000000e-03  1.61500000e-03\n",
      "  1.70000000e-03  1.78500000e-03  1.87000000e-03  1.95500000e-03\n",
      "  2.04000000e-03  2.12500000e-03  2.21000000e-03  2.29500000e-03\n",
      "  2.38000000e-03  2.46500000e-03  2.55000000e-03  2.63500000e-03\n",
      "  2.72000000e-03  2.76546337e-03  2.76546337e-03  2.76546337e-03\n",
      "  2.76546337e-03  2.76546337e-03  2.76546337e-03  2.76546337e-03\n",
      "  2.76546337e-03  2.68046337e-03  2.59546337e-03  2.51046337e-03\n",
      "  2.42546337e-03  2.34046337e-03  2.25546337e-03  2.17046337e-03\n",
      "  2.08546337e-03  2.00046337e-03  1.91546337e-03  1.83046337e-03\n",
      "  1.74546337e-03  1.66046337e-03  1.57546337e-03  1.49046337e-03\n",
      "  1.40546337e-03  1.32046337e-03  1.23546337e-03  1.15046337e-03\n",
      "  1.06546337e-03  9.80463371e-04  8.95463371e-04  8.10463371e-04\n",
      "  7.25463371e-04  6.40463371e-04  5.55463371e-04  4.70463371e-04\n",
      "  3.85463371e-04  3.00463371e-04  2.15463371e-04  1.30463371e-04\n",
      "  4.54633709e-05 -3.95366291e-05 -1.24536629e-04 -2.09536629e-04\n",
      " -2.94536629e-04 -3.79536629e-04 -4.64536629e-04 -5.49536629e-04\n",
      " -6.34536629e-04 -7.19536629e-04 -8.04536629e-04 -8.89536629e-04\n",
      " -9.74536629e-04 -1.05953663e-03 -1.14453663e-03 -1.22953663e-03\n",
      " -1.31453663e-03 -1.39953663e-03 -1.41677214e-03 -1.41677214e-03\n",
      " -1.49651283e-03 -1.56896488e-03 -1.63591195e-03 -1.69822749e-03\n",
      " -1.75650579e-03 -1.81120079e-03 -1.86267725e-03 -1.91123777e-03\n",
      " -1.95713932e-03 -2.00060271e-03 -2.04180108e-03 -2.08095117e-03\n",
      " -2.11817802e-03 -2.15360871e-03 -2.18736444e-03 -2.21956190e-03\n",
      " -2.25030281e-03 -2.27967553e-03 -2.30776089e-03 -2.33463226e-03\n",
      " -2.36037260e-03 -2.38503713e-03 -2.40868401e-03 -2.43137047e-03\n",
      " -2.45314695e-03 -2.47406070e-03 -2.49415558e-03 -2.51347297e-03\n",
      " -2.53204425e-03 -2.54991993e-03 -2.56712261e-03 -2.58368097e-03\n",
      " -2.59962277e-03 -2.61497580e-03 -2.62976631e-03 -2.64401779e-03\n",
      " -2.65775125e-03 -2.67097571e-03 -2.68373299e-03 -2.69602969e-03\n",
      " -2.70788265e-03 -2.71930648e-03 -2.73031546e-03 -2.74092302e-03\n",
      " -2.75114375e-03 -2.76099116e-03 -2.77046381e-03 -2.77960161e-03\n",
      " -2.78840182e-03 -2.79179883e-03 -2.79179883e-03 -2.79179883e-03\n",
      " -2.79179883e-03 -2.79179883e-03 -2.79179883e-03 -2.79179883e-03]\n"
     ]
    }
   ],
   "source": [
    "SoC_init=0.5\n",
    "a = sim.solution[\"Discharge capacity [A.h]\"].entries\n",
    "b = parameter_values[\"Nominal cell capacity [A.h]\"]\n",
    "SoC = SoC_init - a/b\n",
    "print(a)\n",
    "# sim.plot(SoC.reshape(-1))"
   ]
  },
  {
   "attachments": {},
   "cell_type": "markdown",
   "metadata": {},
   "source": [
    "### Suche nach Variablen in verschiedenen Sets\n",
    "Anteilige Auflistung der Spannungsanteile zur Spannungskurve"
   ]
  },
  {
   "cell_type": "code",
   "execution_count": 21,
   "metadata": {
    "tags": []
   },
   "outputs": [
    {
     "ename": "AttributeError",
     "evalue": "module 'pybamm' has no attribute 'plot_voltage_components_wo_OCV'",
     "output_type": "error",
     "traceback": [
      "\u001b[1;31m---------------------------------------------------------------------------\u001b[0m",
      "\u001b[1;31mAttributeError\u001b[0m                            Traceback (most recent call last)",
      "Cell \u001b[1;32mIn[21], line 8\u001b[0m\n\u001b[0;32m      6\u001b[0m fig,ax1 \u001b[38;5;241m=\u001b[39m plt\u001b[38;5;241m.\u001b[39msubplots()\n\u001b[0;32m      7\u001b[0m fig\u001b[38;5;241m.\u001b[39mset_size_inches(\u001b[38;5;241m12\u001b[39m,\u001b[38;5;241m8\u001b[39m)\n\u001b[1;32m----> 8\u001b[0m \u001b[43mpybamm\u001b[49m\u001b[38;5;241;43m.\u001b[39;49m\u001b[43mplot_voltage_components_wo_OCV\u001b[49m(sols[\u001b[38;5;241m0\u001b[39m],ax\u001b[38;5;241m=\u001b[39max1,split_by_electrode\u001b[38;5;241m=\u001b[39m\u001b[38;5;28;01mTrue\u001b[39;00m)\n\u001b[0;32m      9\u001b[0m plt\u001b[38;5;241m.\u001b[39mxlabel(\u001b[38;5;124m\"\u001b[39m\u001b[38;5;124mt / h\u001b[39m\u001b[38;5;124m\"\u001b[39m, fontsize\u001b[38;5;241m=\u001b[39m\u001b[38;5;241m26\u001b[39m)\n\u001b[0;32m     10\u001b[0m plt\u001b[38;5;241m.\u001b[39mylabel(\u001b[38;5;124m\"\u001b[39m\u001b[38;5;124mU / V\u001b[39m\u001b[38;5;124m\"\u001b[39m, fontsize\u001b[38;5;241m=\u001b[39m\u001b[38;5;241m26\u001b[39m)\n",
      "\u001b[1;31mAttributeError\u001b[0m: module 'pybamm' has no attribute 'plot_voltage_components_wo_OCV'"
     ]
    },
    {
     "data": {
      "image/png": "[encoded data removed]",
      "text/plain": [
       "<Figure size 1200x800 with 1 Axes>"
      ]
     },
     "metadata": {},
     "output_type": "display_data"
    }
   ],
   "source": [
    "# f = figsize=(20,8)\n",
    "\n",
    "# test=os.environ.get('PYTHONPATH', '').split(os.pathsep)\n",
    "# print(test)\n",
    "\n",
    "fig,ax1 = plt.subplots()\n",
    "fig.set_size_inches(12,8)\n",
    "pybamm.plot_voltage_components_wo_OCV(sols[0],ax=ax1,split_by_electrode=True)\n",
    "plt.xlabel(\"t / h\", fontsize=26)\n",
    "plt.ylabel(\"U / V\", fontsize=26)\n",
    "# xpoints = np.array([1, 8])\n",
    "# ypoints = np.array([3, 10])\n",
    "# plt.plot(xpoints, ypoints)\n",
    "plt.rcParams.update({'font.size': 18})\n",
    "date=datetime.now()\n",
    "today=date.strftime(\"%Y%m%d\")\n",
    "\n",
    "plt.savefig(pathlib.PureWindowsPath('C:/Users/ahe16/Documents/GitHub/PyBaMM_Fork/scripts/testing/Laborzelle/C_rate_experiment/',today+\"_volt_comp\"+\".jpg\"),dpi=400,bbox_inches='tight',pad_inches=0)\n",
    "# plt.savefig(r\"C:\\Users\\ahe16\\Documents\\GitHub\\PyBaMM_Fork\\scripts\\testing\\Laborzelle\\C_rate_experiment\\test.jpg\",dpi=400,bbox_inches='tight',pad_inches=0)"
   ]
  },
  {
   "attachments": {},
   "cell_type": "markdown",
   "metadata": {},
   "source": [
    "## Betrachtung der Reaktionsüberspannungen\n",
    "Es zeigt sich bei der Übersicht, dass die Reaktionsüberspannungen gerade bei der negativen Elektrode sehr hoch ausfallen. Diese hängen von der Kinetik an den Elektrodenoberflächen ab. Diese sind in dem `pybamm.BaseBatteryModel` regulär auf eine symetrisch definierte Butler-Volmer-Gleichung (\"..\\pybamm\\models\\submodels\\interface\\kinetics\").\n",
    "The overpotential `eta_r`ist mostly dependent on the surface potential of each electrode and the OCP distribtion over the surface area.\n",
    "...continue at some point\n"
   ]
  },
  {
   "cell_type": "code",
   "execution_count": null,
   "metadata": {},
   "outputs": [
    {
     "data": {
      "text/plain": [
       "<pybamm.models.submodels.interface.kinetics.butler_volmer.SymmetricButlerVolmer at 0x1f63e4359a0>"
      ]
     },
     "execution_count": 20,
     "metadata": {},
     "output_type": "execute_result"
    }
   ],
   "source": [
    "dfn.submodels[\"negative primary interface\"]"
   ]
  },
  {
   "attachments": {},
   "cell_type": "markdown",
   "metadata": {},
   "source": [
    "### Studie zu den Anfangswertbedinungen\n",
    "Bei der Definition der Experimente ist es wichtig auf den gleichen Anfangszustand zu kommen. Dazu gibt es bei der Simulation ([Dokumentation-Simulation](https://pybamm.readthedocs.io/en/latest/_modules/pybamm/simulation.html#Simulation.solve)) der Lösung, die Möglichkeit die den anfänglichen Ladezustand über `initial_soc` (0 bis 1) den anfänglichen Ladezustand zu bestimmen. \n",
    "\n",
    "\n",
    "\n",
    "Der anfängliche Ladezustand wird dann anhand von Lade- und Entladeschlussspannung, sowie den OCV Kurven zu der negativen und positiven Elektrode bestimmt. Die OCV Kurven werden wie von der Modellparameterliste getrennt für Kathode und Anode festgelegt. Wie dort auch festgelegt ist das Potential abhängig von der Stöchiometrie in dem Aktivmaterial, also wie oben das Verhältnis der Lithiumionenkonzentration gegenüber der maximalen Konzentration in dem Material. Je nach Festlegung der Ladeschlussspannungen wird nur ein Teil der theoretischen Kapazität der Materialien genutzt, was sich in der Praxis meist durch eine dadurch höhrere Lebensdauer lohnt.\n",
    "\n",
    "##### To do \n",
    "- Tiefer einsteigen\n",
    "- OCV Kurven für Kathode und Anode tauschen\n",
    "- Gibt es noch andere Abhängigkeiten bei der Begrenzung der OCV Fenster als Ladeschlussspannungen?\n",
    "\n",
    "\n",
    "#### Definition des vorherigen Zellhistorie\n",
    "Bei der Simulation von Vorgängen sollte auf die Historie der Zelle geachtet werden, so kann der Anfangszustand driekt vor dem Test der eigentlich simuliert werden soll, auch simuliert werden.\n"
   ]
  },
  {
   "cell_type": "code",
   "execution_count": null,
   "metadata": {},
   "outputs": [
    {
     "name": "stdout",
     "output_type": "stream",
     "text": [
      "0.013097241162996499 0.9345796086655993\n",
      "0.013097241162996499 0.9345796086655993 0.6960651154820363 0.08373133174579676\n",
      "0.9345796086655993 0.08373133174579672\n"
     ]
    }
   ],
   "source": [
    "param = pybamm.LithiumIonParameters()\n",
    "# V_min = parameter_values.evaluate(param.voltage_low_cut_dimensional)\n",
    "# V_max = parameter_values.evaluate(param.voltage_high_cut_dimensional)\n",
    "C_n = parameter_values.evaluate(param.n.cap_init)\n",
    "C_p = parameter_values.evaluate(param.p.cap_init)\n",
    "n_Li = parameter_values.evaluate(param.n_Li_particles_init)\n",
    "\n",
    "x, y = pybamm.lithium_ion.get_initial_stoichiometries(1, parameter_values)\n",
    "# pybamm.lithium_ion.ElectrodeSOHSolver\n",
    "print(x,y)\n",
    "# pybamm.plot(sol.t,sol.y)\n"
   ]
  },
  {
   "attachments": {},
   "cell_type": "markdown",
   "metadata": {},
   "source": []
  },
  {
   "cell_type": "code",
   "execution_count": null,
   "metadata": {},
   "outputs": [],
   "source": [
    "path_csv=pathlib.PureWindowsPath('C:/Users/ahe16/Documents/GitHub/PyBaMM_Fork/scripts/testing/Laborzelle/C_rate_experiment/',today+\"_DiffKoe_test_BA_RB_Li_ref\"+\".csv\")\n",
    "path_mat=pathlib.PureWindowsPath('C:/Users/ahe16/Documents/GitHub/PyBaMM_Fork/scripts/testing/Laborzelle/C_rate_experiment/',today+\"_DiffKoe_test_BA_RB_constant4-e15\"+\".mat\")"
   ]
  },
  {
   "attachments": {},
   "cell_type": "markdown",
   "metadata": {},
   "source": [
    "### Save data to csv and matlab for further analysis"
   ]
  },
  {
   "cell_type": "code",
   "execution_count": null,
   "metadata": {},
   "outputs": [],
   "source": [
    "sol.save_data(path_csv, [\"Time [s]\", \"Current [A]\", \"Terminal voltage [V]\"], to_format=\"csv\")\n",
    "sol.save_data(path_mat, [\"Time [s]\", \"Current [A]\", \"Terminal voltage [V]\"], to_format=\"matlab\",\n",
    "              short_names={\"Time [s]\": \"t\", \"Current [A]\": \"I\", \"Terminal voltage [V]\": \"V\"})\n"
   ]
  },
  {
   "attachments": {},
   "cell_type": "markdown",
   "metadata": {},
   "source": [
    "how to change the time of export?"
   ]
  },
  {
   "cell_type": "code",
   "execution_count": null,
   "metadata": {},
   "outputs": [],
   "source": [
    "# pybamm.print_citations()\n",
    "\n",
    "#print(sol[\"Time [s]\"])"
   ]
  }
 ],
 "metadata": {
  "kernelspec": {
   "display_name": "Python 3",
   "language": "python",
   "name": "python3"
  },
  "language_info": {
   "codemirror_mode": {
    "name": "ipython",
    "version": 3
   },
   "file_extension": ".py",
   "mimetype": "text/x-python",
   "name": "python",
   "nbconvert_exporter": "python",
   "pygments_lexer": "ipython3",
   "version": "3.9.12"
  },
  "orig_nbformat": 4,
  "vscode": {
   "interpreter": {
    "hash": "60ce6acb746b206e72c5f3467fec8ac754c617a07f70f5759e736c54c9aac25b"
   }
  }
 },
 "nbformat": 4,
 "nbformat_minor": 2
}
